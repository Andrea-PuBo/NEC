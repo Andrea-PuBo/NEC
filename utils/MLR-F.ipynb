{
 "cells": [
  {
   "metadata": {},
   "cell_type": "markdown",
   "source": "# Multi-Linear Regression (MLR)",
   "id": "79a061c68d062483"
  },
  {
   "metadata": {},
   "cell_type": "markdown",
   "source": [
    "> MLR using libraries - December 2024\n",
    ">\n",
    "> NEC First Assignment - Universitat Rovira i Virgili\n",
    ">\n",
    "> *Andrea Pujals Bocero*"
   ],
   "id": "92a08701f98b02b4"
  },
  {
   "metadata": {
    "ExecuteTime": {
     "end_time": "2024-12-05T12:55:58.143699Z",
     "start_time": "2024-12-05T12:55:58.129358Z"
    }
   },
   "cell_type": "code",
   "source": [
    "import pandas as pd\n",
    "import matplotlib.pyplot as plt"
   ],
   "id": "6f32dcea74737f3e",
   "outputs": [],
   "execution_count": 12
  },
  {
   "metadata": {
    "ExecuteTime": {
     "end_time": "2024-12-05T12:56:03.039708Z",
     "start_time": "2024-12-05T12:56:02.996645Z"
    }
   },
   "cell_type": "code",
   "source": [
    "#read and parse the .csv features file for A1-synthetic\n",
    "df = pd.read_csv('A1-synthetic.csv', decimal=\".\")\n",
    "df.describe()"
   ],
   "id": "c4081c5158c3413",
   "outputs": [
    {
     "data": {
      "text/plain": [
       "                v1           v2           v3           v4           v5  \\\n",
       "count  1000.000000  1000.000000  1000.000000  1000.000000  1000.000000   \n",
       "mean      0.968392    11.005370     0.511468     2.417192   100.108795   \n",
       "std      28.418028     0.584090     0.283292     1.147284     4.893623   \n",
       "min     -49.942910    10.000103     0.000147     1.002395    85.147019   \n",
       "25%     -23.938244    10.510135     0.267591     1.258367    96.934414   \n",
       "50%       2.852507    10.990934     0.515436     3.042135    99.920497   \n",
       "75%      25.494062    11.517569     0.757415     3.498211   103.482385   \n",
       "max      49.889593    11.999189     0.999727     3.999776   116.239538   \n",
       "\n",
       "                v6           v7           v8           v9            z  \n",
       "count  1000.000000  1000.000000  1000.000000  1000.000000  1000.000000  \n",
       "mean      2.726705    78.148504     0.313000    13.868300     6.367773  \n",
       "std       0.275193     5.016537     0.463946     3.253272     3.841009  \n",
       "min       1.974029    62.554174     0.000000    10.100000    -0.791114  \n",
       "25%       2.540117    74.814175     0.000000    10.861926     3.124304  \n",
       "50%       2.710712    78.101481     0.000000    13.089869     5.665139  \n",
       "75%       2.902578    81.604561     1.000000    16.366096     9.260205  \n",
       "max       3.600914    94.502170     1.000000    22.033951    16.080230  "
      ],
      "text/html": [
       "<div>\n",
       "<style scoped>\n",
       "    .dataframe tbody tr th:only-of-type {\n",
       "        vertical-align: middle;\n",
       "    }\n",
       "\n",
       "    .dataframe tbody tr th {\n",
       "        vertical-align: top;\n",
       "    }\n",
       "\n",
       "    .dataframe thead th {\n",
       "        text-align: right;\n",
       "    }\n",
       "</style>\n",
       "<table border=\"1\" class=\"dataframe\">\n",
       "  <thead>\n",
       "    <tr style=\"text-align: right;\">\n",
       "      <th></th>\n",
       "      <th>v1</th>\n",
       "      <th>v2</th>\n",
       "      <th>v3</th>\n",
       "      <th>v4</th>\n",
       "      <th>v5</th>\n",
       "      <th>v6</th>\n",
       "      <th>v7</th>\n",
       "      <th>v8</th>\n",
       "      <th>v9</th>\n",
       "      <th>z</th>\n",
       "    </tr>\n",
       "  </thead>\n",
       "  <tbody>\n",
       "    <tr>\n",
       "      <th>count</th>\n",
       "      <td>1000.000000</td>\n",
       "      <td>1000.000000</td>\n",
       "      <td>1000.000000</td>\n",
       "      <td>1000.000000</td>\n",
       "      <td>1000.000000</td>\n",
       "      <td>1000.000000</td>\n",
       "      <td>1000.000000</td>\n",
       "      <td>1000.000000</td>\n",
       "      <td>1000.000000</td>\n",
       "      <td>1000.000000</td>\n",
       "    </tr>\n",
       "    <tr>\n",
       "      <th>mean</th>\n",
       "      <td>0.968392</td>\n",
       "      <td>11.005370</td>\n",
       "      <td>0.511468</td>\n",
       "      <td>2.417192</td>\n",
       "      <td>100.108795</td>\n",
       "      <td>2.726705</td>\n",
       "      <td>78.148504</td>\n",
       "      <td>0.313000</td>\n",
       "      <td>13.868300</td>\n",
       "      <td>6.367773</td>\n",
       "    </tr>\n",
       "    <tr>\n",
       "      <th>std</th>\n",
       "      <td>28.418028</td>\n",
       "      <td>0.584090</td>\n",
       "      <td>0.283292</td>\n",
       "      <td>1.147284</td>\n",
       "      <td>4.893623</td>\n",
       "      <td>0.275193</td>\n",
       "      <td>5.016537</td>\n",
       "      <td>0.463946</td>\n",
       "      <td>3.253272</td>\n",
       "      <td>3.841009</td>\n",
       "    </tr>\n",
       "    <tr>\n",
       "      <th>min</th>\n",
       "      <td>-49.942910</td>\n",
       "      <td>10.000103</td>\n",
       "      <td>0.000147</td>\n",
       "      <td>1.002395</td>\n",
       "      <td>85.147019</td>\n",
       "      <td>1.974029</td>\n",
       "      <td>62.554174</td>\n",
       "      <td>0.000000</td>\n",
       "      <td>10.100000</td>\n",
       "      <td>-0.791114</td>\n",
       "    </tr>\n",
       "    <tr>\n",
       "      <th>25%</th>\n",
       "      <td>-23.938244</td>\n",
       "      <td>10.510135</td>\n",
       "      <td>0.267591</td>\n",
       "      <td>1.258367</td>\n",
       "      <td>96.934414</td>\n",
       "      <td>2.540117</td>\n",
       "      <td>74.814175</td>\n",
       "      <td>0.000000</td>\n",
       "      <td>10.861926</td>\n",
       "      <td>3.124304</td>\n",
       "    </tr>\n",
       "    <tr>\n",
       "      <th>50%</th>\n",
       "      <td>2.852507</td>\n",
       "      <td>10.990934</td>\n",
       "      <td>0.515436</td>\n",
       "      <td>3.042135</td>\n",
       "      <td>99.920497</td>\n",
       "      <td>2.710712</td>\n",
       "      <td>78.101481</td>\n",
       "      <td>0.000000</td>\n",
       "      <td>13.089869</td>\n",
       "      <td>5.665139</td>\n",
       "    </tr>\n",
       "    <tr>\n",
       "      <th>75%</th>\n",
       "      <td>25.494062</td>\n",
       "      <td>11.517569</td>\n",
       "      <td>0.757415</td>\n",
       "      <td>3.498211</td>\n",
       "      <td>103.482385</td>\n",
       "      <td>2.902578</td>\n",
       "      <td>81.604561</td>\n",
       "      <td>1.000000</td>\n",
       "      <td>16.366096</td>\n",
       "      <td>9.260205</td>\n",
       "    </tr>\n",
       "    <tr>\n",
       "      <th>max</th>\n",
       "      <td>49.889593</td>\n",
       "      <td>11.999189</td>\n",
       "      <td>0.999727</td>\n",
       "      <td>3.999776</td>\n",
       "      <td>116.239538</td>\n",
       "      <td>3.600914</td>\n",
       "      <td>94.502170</td>\n",
       "      <td>1.000000</td>\n",
       "      <td>22.033951</td>\n",
       "      <td>16.080230</td>\n",
       "    </tr>\n",
       "  </tbody>\n",
       "</table>\n",
       "</div>"
      ]
     },
     "execution_count": 13,
     "metadata": {},
     "output_type": "execute_result"
    }
   ],
   "execution_count": 13
  },
  {
   "metadata": {
    "ExecuteTime": {
     "end_time": "2024-12-05T12:56:04.398501Z",
     "start_time": "2024-12-05T12:56:04.378002Z"
    }
   },
   "cell_type": "code",
   "source": [
    "from sklearn.preprocessing import MinMaxScaler\n",
    "scaler = MinMaxScaler()\n",
    "df_scaled = pd.DataFrame(scaler.fit_transform(df), columns=df.columns)\n",
    "df_scaled.describe()"
   ],
   "id": "1245329b9c6155f1",
   "outputs": [
    {
     "data": {
      "text/plain": [
       "                v1           v2           v3           v4           v5  \\\n",
       "count  1000.000000  1000.000000  1000.000000  1000.000000  1000.000000   \n",
       "mean      0.509967     0.502863     0.511535     0.472011     0.481202   \n",
       "std       0.284657     0.292178     0.283411     0.382762     0.157389   \n",
       "min       0.000000     0.000000     0.000000     0.000000     0.000000   \n",
       "25%       0.260483     0.255133     0.267556     0.085399     0.379107   \n",
       "50%       0.528840     0.495642     0.515506     0.680507     0.475146   \n",
       "75%       0.755635     0.759080     0.757586     0.832666     0.589703   \n",
       "max       1.000000     1.000000     1.000000     1.000000     1.000000   \n",
       "\n",
       "                v6           v7           v8           v9            z  \n",
       "count  1000.000000  1000.000000  1000.000000  1000.000000  1000.000000  \n",
       "mean      0.462648     0.488116     0.313000     0.315763     0.424322  \n",
       "std       0.169153     0.157022     0.463946     0.272606     0.227665  \n",
       "min       0.000000     0.000000     0.000000     0.000000     0.000000  \n",
       "25%       0.347958     0.383749     0.000000     0.063845     0.232075  \n",
       "50%       0.452818     0.486644     0.000000     0.250535     0.382676  \n",
       "75%       0.570753     0.596294     1.000000     0.525065     0.595763  \n",
       "max       1.000000     1.000000     1.000000     1.000000     1.000000  "
      ],
      "text/html": [
       "<div>\n",
       "<style scoped>\n",
       "    .dataframe tbody tr th:only-of-type {\n",
       "        vertical-align: middle;\n",
       "    }\n",
       "\n",
       "    .dataframe tbody tr th {\n",
       "        vertical-align: top;\n",
       "    }\n",
       "\n",
       "    .dataframe thead th {\n",
       "        text-align: right;\n",
       "    }\n",
       "</style>\n",
       "<table border=\"1\" class=\"dataframe\">\n",
       "  <thead>\n",
       "    <tr style=\"text-align: right;\">\n",
       "      <th></th>\n",
       "      <th>v1</th>\n",
       "      <th>v2</th>\n",
       "      <th>v3</th>\n",
       "      <th>v4</th>\n",
       "      <th>v5</th>\n",
       "      <th>v6</th>\n",
       "      <th>v7</th>\n",
       "      <th>v8</th>\n",
       "      <th>v9</th>\n",
       "      <th>z</th>\n",
       "    </tr>\n",
       "  </thead>\n",
       "  <tbody>\n",
       "    <tr>\n",
       "      <th>count</th>\n",
       "      <td>1000.000000</td>\n",
       "      <td>1000.000000</td>\n",
       "      <td>1000.000000</td>\n",
       "      <td>1000.000000</td>\n",
       "      <td>1000.000000</td>\n",
       "      <td>1000.000000</td>\n",
       "      <td>1000.000000</td>\n",
       "      <td>1000.000000</td>\n",
       "      <td>1000.000000</td>\n",
       "      <td>1000.000000</td>\n",
       "    </tr>\n",
       "    <tr>\n",
       "      <th>mean</th>\n",
       "      <td>0.509967</td>\n",
       "      <td>0.502863</td>\n",
       "      <td>0.511535</td>\n",
       "      <td>0.472011</td>\n",
       "      <td>0.481202</td>\n",
       "      <td>0.462648</td>\n",
       "      <td>0.488116</td>\n",
       "      <td>0.313000</td>\n",
       "      <td>0.315763</td>\n",
       "      <td>0.424322</td>\n",
       "    </tr>\n",
       "    <tr>\n",
       "      <th>std</th>\n",
       "      <td>0.284657</td>\n",
       "      <td>0.292178</td>\n",
       "      <td>0.283411</td>\n",
       "      <td>0.382762</td>\n",
       "      <td>0.157389</td>\n",
       "      <td>0.169153</td>\n",
       "      <td>0.157022</td>\n",
       "      <td>0.463946</td>\n",
       "      <td>0.272606</td>\n",
       "      <td>0.227665</td>\n",
       "    </tr>\n",
       "    <tr>\n",
       "      <th>min</th>\n",
       "      <td>0.000000</td>\n",
       "      <td>0.000000</td>\n",
       "      <td>0.000000</td>\n",
       "      <td>0.000000</td>\n",
       "      <td>0.000000</td>\n",
       "      <td>0.000000</td>\n",
       "      <td>0.000000</td>\n",
       "      <td>0.000000</td>\n",
       "      <td>0.000000</td>\n",
       "      <td>0.000000</td>\n",
       "    </tr>\n",
       "    <tr>\n",
       "      <th>25%</th>\n",
       "      <td>0.260483</td>\n",
       "      <td>0.255133</td>\n",
       "      <td>0.267556</td>\n",
       "      <td>0.085399</td>\n",
       "      <td>0.379107</td>\n",
       "      <td>0.347958</td>\n",
       "      <td>0.383749</td>\n",
       "      <td>0.000000</td>\n",
       "      <td>0.063845</td>\n",
       "      <td>0.232075</td>\n",
       "    </tr>\n",
       "    <tr>\n",
       "      <th>50%</th>\n",
       "      <td>0.528840</td>\n",
       "      <td>0.495642</td>\n",
       "      <td>0.515506</td>\n",
       "      <td>0.680507</td>\n",
       "      <td>0.475146</td>\n",
       "      <td>0.452818</td>\n",
       "      <td>0.486644</td>\n",
       "      <td>0.000000</td>\n",
       "      <td>0.250535</td>\n",
       "      <td>0.382676</td>\n",
       "    </tr>\n",
       "    <tr>\n",
       "      <th>75%</th>\n",
       "      <td>0.755635</td>\n",
       "      <td>0.759080</td>\n",
       "      <td>0.757586</td>\n",
       "      <td>0.832666</td>\n",
       "      <td>0.589703</td>\n",
       "      <td>0.570753</td>\n",
       "      <td>0.596294</td>\n",
       "      <td>1.000000</td>\n",
       "      <td>0.525065</td>\n",
       "      <td>0.595763</td>\n",
       "    </tr>\n",
       "    <tr>\n",
       "      <th>max</th>\n",
       "      <td>1.000000</td>\n",
       "      <td>1.000000</td>\n",
       "      <td>1.000000</td>\n",
       "      <td>1.000000</td>\n",
       "      <td>1.000000</td>\n",
       "      <td>1.000000</td>\n",
       "      <td>1.000000</td>\n",
       "      <td>1.000000</td>\n",
       "      <td>1.000000</td>\n",
       "      <td>1.000000</td>\n",
       "    </tr>\n",
       "  </tbody>\n",
       "</table>\n",
       "</div>"
      ]
     },
     "execution_count": 14,
     "metadata": {},
     "output_type": "execute_result"
    }
   ],
   "execution_count": 14
  },
  {
   "metadata": {
    "ExecuteTime": {
     "end_time": "2024-12-05T12:56:06.187875Z",
     "start_time": "2024-12-05T12:56:06.171675Z"
    }
   },
   "cell_type": "code",
   "source": [
    "from sklearn.model_selection import train_test_split\n",
    "\n",
    "#separate the data into features and target\n",
    "\n",
    "#x, y = df.drop([\"z\"], axis=1), df2[[\"z\"]]\n",
    "x, y = df_scaled.drop([\"z\"], axis=1), df_scaled[[\"z\"]]\n",
    "\n",
    "# Split the data into training and testing sets\n",
    "x_train, x_test, y_train, y_test = train_test_split(x, y, test_size=0.2, random_state=42)"
   ],
   "id": "fdbcf3629562ab12",
   "outputs": [],
   "execution_count": 15
  },
  {
   "metadata": {
    "ExecuteTime": {
     "end_time": "2024-12-05T12:56:07.446505Z",
     "start_time": "2024-12-05T12:56:07.435576Z"
    }
   },
   "cell_type": "code",
   "source": [
    "#print the training and testing sets shape\n",
    "print(x_train.shape, y_train.shape)\n",
    "print(x_test.shape, y_test.shape)"
   ],
   "id": "d06c3fb26f2c0d15",
   "outputs": [
    {
     "name": "stdout",
     "output_type": "stream",
     "text": [
      "(800, 9) (800, 1)\n",
      "(200, 9) (200, 1)\n"
     ]
    }
   ],
   "execution_count": 16
  },
  {
   "metadata": {
    "ExecuteTime": {
     "end_time": "2024-12-05T12:56:08.811412Z",
     "start_time": "2024-12-05T12:56:08.797889Z"
    }
   },
   "cell_type": "code",
   "source": [
    "# Create a model that is a Linear Regression\n",
    "from sklearn.linear_model import LinearRegression\n",
    "\n",
    "mlr_model = LinearRegression()\n",
    "\n",
    "# fit the model with the data\n",
    "mlr_model.fit(x_train, y_train)\n",
    "\n",
    "#print the parameters of the model\n",
    "print(f\"Model parameters:\\nCoefficients: {mlr_model.coef_}\\nIntercept: {mlr_model.intercept_}\")"
   ],
   "id": "1be6ff98f2a5b6ec",
   "outputs": [
    {
     "name": "stdout",
     "output_type": "stream",
     "text": [
      "Model parameters:\n",
      "Coefficients: [[-0.00115185  0.15735006  0.00519687  0.08512535 -0.30244753 -0.01580084\n",
      "   0.31025884  0.06016561  0.70033303]]\n",
      "Intercept: [0.065535]\n"
     ]
    }
   ],
   "execution_count": 17
  },
  {
   "metadata": {
    "ExecuteTime": {
     "end_time": "2024-12-05T12:56:12.947003Z",
     "start_time": "2024-12-05T12:56:12.927153Z"
    }
   },
   "cell_type": "code",
   "source": [
    "#Evaluation of the model with the training data\n",
    "\n",
    "#print the score of the model (the R^2 value)\n",
    "print(\"Model score: \", mlr_model.score(x_train, y_train))\n",
    "\n",
    "y_pred = mlr_model.predict(x_train)\n",
    "\n",
    "# THESE VALUES ARE DEPENDENT ON USING SCALED DATA OR NOT\n",
    "\n",
    "#print the mean squared error of the model\n",
    "from sklearn.metrics import mean_squared_error\n",
    "print(\"Mean squared error (MSE): \", mean_squared_error(y_train, y_pred))\n",
    "\n",
    "#print the mean absolute error of the model\n",
    "from sklearn.metrics import mean_absolute_error\n",
    "print(\"Mean absolute error (MAE): \", mean_absolute_error(y_train, y_pred))\n",
    "\n",
    "#print the mean absolute percentage error of the model\n",
    "from sklearn.metrics import mean_absolute_percentage_error\n",
    "print(\"Mean absolute percentage error (MAPE): \", mean_absolute_percentage_error(y_train, y_pred))"
   ],
   "id": "95f1c1c55a2ad008",
   "outputs": [
    {
     "name": "stdout",
     "output_type": "stream",
     "text": [
      "Model score:  0.9743718217072975\n",
      "Mean squared error (MSE):  0.0013024423486367354\n",
      "Mean absolute error (MAE):  0.028471778829102314\n",
      "Mean absolute percentage error (MAPE):  475712499160.23553\n"
     ]
    }
   ],
   "execution_count": 18
  },
  {
   "metadata": {
    "ExecuteTime": {
     "end_time": "2024-12-05T11:51:47.252125Z",
     "start_time": "2024-12-05T11:51:47.086887Z"
    }
   },
   "cell_type": "code",
   "source": [
    "#plot the model predictions and the data\n",
    "\n",
    "plt.scatter(y_train, mlr_model.predict(x_train))\n",
    "plt.xlabel(\"True values\")\n",
    "plt.ylabel(\"Predicted values\")\n",
    "plt.title(\"True vs Predicted value (Training set)\")\n",
    "plt.show()"
   ],
   "id": "6f2b2f58b1873d3a",
   "outputs": [
    {
     "data": {
      "text/plain": [
       "<Figure size 640x480 with 1 Axes>"
      ],
      "image/png": "[encoded data removed]"
     },
     "metadata": {},
     "output_type": "display_data"
    }
   ],
   "execution_count": 8
  },
  {
   "metadata": {
    "ExecuteTime": {
     "end_time": "2024-12-05T11:51:49.808188Z",
     "start_time": "2024-12-05T11:51:49.783586Z"
    }
   },
   "cell_type": "code",
   "source": [
    "#Evaluation of the model with the test data\n",
    " \n",
    " #print the score of the model (the R^2 value)\n",
    "print(\"Model score: \", mlr_model.score(x_test, y_test))\n",
    "\n",
    "y_pred = mlr_model.predict(x_test)\n",
    "\n",
    "# THESE VALUES ARE DEPENDENT ON USING SCALED DATA OR NOT\n",
    "\n",
    "#print the mean squared error of the model\n",
    "from sklearn.metrics import mean_squared_error\n",
    "print(\"Mean squared error (MSE): \", mean_squared_error(y_test, y_pred))\n",
    "\n",
    "#print the mean absolute error of the model\n",
    "from sklearn.metrics import mean_absolute_error\n",
    "print(\"Mean absolute error (MAE): \", mean_absolute_error(y_test, y_pred))\n",
    "\n",
    "#print the mean absolute percentage error of the model\n",
    "from sklearn.metrics import mean_absolute_percentage_error\n",
    "print(\"Mean absolute percentage error (MAPE): \", mean_absolute_percentage_error(y_test, y_pred))"
   ],
   "id": "8cd504d15eb8cdf9",
   "outputs": [
    {
     "name": "stdout",
     "output_type": "stream",
     "text": [
      "Model score:  0.973637408754218\n",
      "Mean squared error (MSE):  0.0014476119354056476\n",
      "Mean absolute error (MAE):  0.03111243623628522\n",
      "Mean absolute percentage error (MAPE):  0.10188170393169439\n"
     ]
    }
   ],
   "execution_count": 9
  },
  {
   "metadata": {
    "ExecuteTime": {
     "end_time": "2024-12-05T11:51:52.956279Z",
     "start_time": "2024-12-05T11:51:52.857896Z"
    }
   },
   "cell_type": "code",
   "source": [
    "#Repeat the same steps for the testing set\n",
    "\n",
    "print(\"Model score: \", mlr_model.score(x_test, y_test))\n",
    "\n",
    "plt.scatter(y_test, y_pred)\n",
    "plt.xlabel(\"True values\")\n",
    "plt.ylabel(\"Predicted values\")\n",
    "plt.title(\"True vs Predicted values (Testing set)\")\n",
    "plt.show()"
   ],
   "id": "56635f222df93c1e",
   "outputs": [
    {
     "name": "stdout",
     "output_type": "stream",
     "text": [
      "Model score:  0.973637408754218\n"
     ]
    },
    {
     "data": {
      "text/plain": [
       "<Figure size 640x480 with 1 Axes>"
      ],
      "image/png": "[encoded data removed]"
     },
     "metadata": {},
     "output_type": "display_data"
    }
   ],
   "execution_count": 10
  }
 ],
 "metadata": {
  "kernelspec": {
   "display_name": "Python 3",
   "language": "python",
   "name": "python3"
  },
  "language_info": {
   "codemirror_mode": {
    "name": "ipython",
    "version": 2
   },
   "file_extension": ".py",
   "mimetype": "text/x-python",
   "name": "python",
   "nbconvert_exporter": "python",
   "pygments_lexer": "ipython2",
   "version": "2.7.6"
  }
 },
 "nbformat": 4,
 "nbformat_minor": 5
}
