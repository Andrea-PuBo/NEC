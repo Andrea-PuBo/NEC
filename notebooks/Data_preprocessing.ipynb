{
 "cells": [
  {
   "metadata": {},
   "cell_type": "markdown",
   "source": "# Diamond dataset",
   "id": "5ce99559ae657198"
  },
  {
   "metadata": {},
   "cell_type": "markdown",
   "source": [
    "> Data preprocessing - November 2024\n",
    ">\n",
    "> NEC First Assignment - Universitat Rovira i Virgili\n",
    ">\n",
    "> *Andrea Pujals Bocero*"
   ],
   "id": "6ec74bc49f29ea73"
  },
  {
   "metadata": {},
   "cell_type": "markdown",
   "source": [
    "### Workflow\n",
    "* Import libraries\n",
    "* Loading dataset\n",
    "* Data cleaning\n",
    "* Encode categorical features\n",
    "* Normalize/scale numerical features\n",
    "* Split data"
   ],
   "id": "9f825c57ad375a33"
  },
  {
   "metadata": {},
   "cell_type": "markdown",
   "source": "### Import libraries",
   "id": "49540c10213226ea"
  },
  {
   "metadata": {
    "ExecuteTime": {
     "end_time": "2024-12-06T15:01:56.849083Z",
     "start_time": "2024-12-06T15:01:56.840735Z"
    }
   },
   "cell_type": "code",
   "source": [
    "import pandas as pd\n",
    "import matplotlib.pyplot as plt\n",
    "import seaborn as sns"
   ],
   "id": "e0b758928e78a5ab",
   "outputs": [],
   "execution_count": 101
  },
  {
   "metadata": {},
   "cell_type": "markdown",
   "source": [
    "### Loading dataset\n",
    "The dataset is retrieved from the web source Kaggle that can be accessed through the following link:\n",
    "\n",
    "https://www.kaggle.com/datasets/shivam2503/diamonds"
   ],
   "id": "67242606f8c368a2"
  },
  {
   "metadata": {
    "ExecuteTime": {
     "end_time": "2024-12-06T15:01:59.946405Z",
     "start_time": "2024-12-06T15:01:58.009823Z"
    }
   },
   "cell_type": "code",
   "source": [
    "url = \"https://raw.githubusercontent.com/Andrea-PuBo/NEC-Activity-1/main/data/diamonds.csv\"\n",
    "df = pd.read_csv(url)\n",
    "df.head(5)"
   ],
   "id": "d964cae8c47f966c",
   "outputs": [
    {
     "data": {
      "text/plain": [
       "   Unnamed: 0  carat      cut color clarity  depth  table  price     x     y  \\\n",
       "0           1   0.23    Ideal     E     SI2   61.5   55.0    326  3.95  3.98   \n",
       "1           2   0.21  Premium     E     SI1   59.8   61.0    326  3.89  3.84   \n",
       "2           3   0.23     Good     E     VS1   56.9   65.0    327  4.05  4.07   \n",
       "3           4   0.29  Premium     I     VS2   62.4   58.0    334  4.20  4.23   \n",
       "4           5   0.31     Good     J     SI2   63.3   58.0    335  4.34  4.35   \n",
       "\n",
       "      z  \n",
       "0  2.43  \n",
       "1  2.31  \n",
       "2  2.31  \n",
       "3  2.63  \n",
       "4  2.75  "
      ],
      "text/html": [
       "<div>\n",
       "<style scoped>\n",
       "    .dataframe tbody tr th:only-of-type {\n",
       "        vertical-align: middle;\n",
       "    }\n",
       "\n",
       "    .dataframe tbody tr th {\n",
       "        vertical-align: top;\n",
       "    }\n",
       "\n",
       "    .dataframe thead th {\n",
       "        text-align: right;\n",
       "    }\n",
       "</style>\n",
       "<table border=\"1\" class=\"dataframe\">\n",
       "  <thead>\n",
       "    <tr style=\"text-align: right;\">\n",
       "      <th></th>\n",
       "      <th>Unnamed: 0</th>\n",
       "      <th>carat</th>\n",
       "      <th>cut</th>\n",
       "      <th>color</th>\n",
       "      <th>clarity</th>\n",
       "      <th>depth</th>\n",
       "      <th>table</th>\n",
       "      <th>price</th>\n",
       "      <th>x</th>\n",
       "      <th>y</th>\n",
       "      <th>z</th>\n",
       "    </tr>\n",
       "  </thead>\n",
       "  <tbody>\n",
       "    <tr>\n",
       "      <th>0</th>\n",
       "      <td>1</td>\n",
       "      <td>0.23</td>\n",
       "      <td>Ideal</td>\n",
       "      <td>E</td>\n",
       "      <td>SI2</td>\n",
       "      <td>61.5</td>\n",
       "      <td>55.0</td>\n",
       "      <td>326</td>\n",
       "      <td>3.95</td>\n",
       "      <td>3.98</td>\n",
       "      <td>2.43</td>\n",
       "    </tr>\n",
       "    <tr>\n",
       "      <th>1</th>\n",
       "      <td>2</td>\n",
       "      <td>0.21</td>\n",
       "      <td>Premium</td>\n",
       "      <td>E</td>\n",
       "      <td>SI1</td>\n",
       "      <td>59.8</td>\n",
       "      <td>61.0</td>\n",
       "      <td>326</td>\n",
       "      <td>3.89</td>\n",
       "      <td>3.84</td>\n",
       "      <td>2.31</td>\n",
       "    </tr>\n",
       "    <tr>\n",
       "      <th>2</th>\n",
       "      <td>3</td>\n",
       "      <td>0.23</td>\n",
       "      <td>Good</td>\n",
       "      <td>E</td>\n",
       "      <td>VS1</td>\n",
       "      <td>56.9</td>\n",
       "      <td>65.0</td>\n",
       "      <td>327</td>\n",
       "      <td>4.05</td>\n",
       "      <td>4.07</td>\n",
       "      <td>2.31</td>\n",
       "    </tr>\n",
       "    <tr>\n",
       "      <th>3</th>\n",
       "      <td>4</td>\n",
       "      <td>0.29</td>\n",
       "      <td>Premium</td>\n",
       "      <td>I</td>\n",
       "      <td>VS2</td>\n",
       "      <td>62.4</td>\n",
       "      <td>58.0</td>\n",
       "      <td>334</td>\n",
       "      <td>4.20</td>\n",
       "      <td>4.23</td>\n",
       "      <td>2.63</td>\n",
       "    </tr>\n",
       "    <tr>\n",
       "      <th>4</th>\n",
       "      <td>5</td>\n",
       "      <td>0.31</td>\n",
       "      <td>Good</td>\n",
       "      <td>J</td>\n",
       "      <td>SI2</td>\n",
       "      <td>63.3</td>\n",
       "      <td>58.0</td>\n",
       "      <td>335</td>\n",
       "      <td>4.34</td>\n",
       "      <td>4.35</td>\n",
       "      <td>2.75</td>\n",
       "    </tr>\n",
       "  </tbody>\n",
       "</table>\n",
       "</div>"
      ]
     },
     "execution_count": 102,
     "metadata": {},
     "output_type": "execute_result"
    }
   ],
   "execution_count": 102
  },
  {
   "metadata": {
    "ExecuteTime": {
     "end_time": "2024-12-06T14:46:32.624478Z",
     "start_time": "2024-12-06T14:46:32.608082Z"
    }
   },
   "cell_type": "code",
   "source": "df.tail(5)",
   "id": "1806813231e7fb56",
   "outputs": [
    {
     "data": {
      "text/plain": [
       "       Unnamed: 0  carat        cut color clarity  depth  table  price     x  \\\n",
       "53935       53936   0.72      Ideal     D     SI1   60.8   57.0   2757  5.75   \n",
       "53936       53937   0.72       Good     D     SI1   63.1   55.0   2757  5.69   \n",
       "53937       53938   0.70  Very Good     D     SI1   62.8   60.0   2757  5.66   \n",
       "53938       53939   0.86    Premium     H     SI2   61.0   58.0   2757  6.15   \n",
       "53939       53940   0.75      Ideal     D     SI2   62.2   55.0   2757  5.83   \n",
       "\n",
       "          y     z  \n",
       "53935  5.76  3.50  \n",
       "53936  5.75  3.61  \n",
       "53937  5.68  3.56  \n",
       "53938  6.12  3.74  \n",
       "53939  5.87  3.64  "
      ],
      "text/html": [
       "<div>\n",
       "<style scoped>\n",
       "    .dataframe tbody tr th:only-of-type {\n",
       "        vertical-align: middle;\n",
       "    }\n",
       "\n",
       "    .dataframe tbody tr th {\n",
       "        vertical-align: top;\n",
       "    }\n",
       "\n",
       "    .dataframe thead th {\n",
       "        text-align: right;\n",
       "    }\n",
       "</style>\n",
       "<table border=\"1\" class=\"dataframe\">\n",
       "  <thead>\n",
       "    <tr style=\"text-align: right;\">\n",
       "      <th></th>\n",
       "      <th>Unnamed: 0</th>\n",
       "      <th>carat</th>\n",
       "      <th>cut</th>\n",
       "      <th>color</th>\n",
       "      <th>clarity</th>\n",
       "      <th>depth</th>\n",
       "      <th>table</th>\n",
       "      <th>price</th>\n",
       "      <th>x</th>\n",
       "      <th>y</th>\n",
       "      <th>z</th>\n",
       "    </tr>\n",
       "  </thead>\n",
       "  <tbody>\n",
       "    <tr>\n",
       "      <th>53935</th>\n",
       "      <td>53936</td>\n",
       "      <td>0.72</td>\n",
       "      <td>Ideal</td>\n",
       "      <td>D</td>\n",
       "      <td>SI1</td>\n",
       "      <td>60.8</td>\n",
       "      <td>57.0</td>\n",
       "      <td>2757</td>\n",
       "      <td>5.75</td>\n",
       "      <td>5.76</td>\n",
       "      <td>3.50</td>\n",
       "    </tr>\n",
       "    <tr>\n",
       "      <th>53936</th>\n",
       "      <td>53937</td>\n",
       "      <td>0.72</td>\n",
       "      <td>Good</td>\n",
       "      <td>D</td>\n",
       "      <td>SI1</td>\n",
       "      <td>63.1</td>\n",
       "      <td>55.0</td>\n",
       "      <td>2757</td>\n",
       "      <td>5.69</td>\n",
       "      <td>5.75</td>\n",
       "      <td>3.61</td>\n",
       "    </tr>\n",
       "    <tr>\n",
       "      <th>53937</th>\n",
       "      <td>53938</td>\n",
       "      <td>0.70</td>\n",
       "      <td>Very Good</td>\n",
       "      <td>D</td>\n",
       "      <td>SI1</td>\n",
       "      <td>62.8</td>\n",
       "      <td>60.0</td>\n",
       "      <td>2757</td>\n",
       "      <td>5.66</td>\n",
       "      <td>5.68</td>\n",
       "      <td>3.56</td>\n",
       "    </tr>\n",
       "    <tr>\n",
       "      <th>53938</th>\n",
       "      <td>53939</td>\n",
       "      <td>0.86</td>\n",
       "      <td>Premium</td>\n",
       "      <td>H</td>\n",
       "      <td>SI2</td>\n",
       "      <td>61.0</td>\n",
       "      <td>58.0</td>\n",
       "      <td>2757</td>\n",
       "      <td>6.15</td>\n",
       "      <td>6.12</td>\n",
       "      <td>3.74</td>\n",
       "    </tr>\n",
       "    <tr>\n",
       "      <th>53939</th>\n",
       "      <td>53940</td>\n",
       "      <td>0.75</td>\n",
       "      <td>Ideal</td>\n",
       "      <td>D</td>\n",
       "      <td>SI2</td>\n",
       "      <td>62.2</td>\n",
       "      <td>55.0</td>\n",
       "      <td>2757</td>\n",
       "      <td>5.83</td>\n",
       "      <td>5.87</td>\n",
       "      <td>3.64</td>\n",
       "    </tr>\n",
       "  </tbody>\n",
       "</table>\n",
       "</div>"
      ]
     },
     "execution_count": 78,
     "metadata": {},
     "output_type": "execute_result"
    }
   ],
   "execution_count": 78
  },
  {
   "metadata": {
    "ExecuteTime": {
     "end_time": "2024-12-06T15:02:00.003924Z",
     "start_time": "2024-12-06T15:01:59.989307Z"
    }
   },
   "cell_type": "code",
   "source": "df.info()",
   "id": "10329d9a44346c7",
   "outputs": [
    {
     "name": "stdout",
     "output_type": "stream",
     "text": [
      "<class 'pandas.core.frame.DataFrame'>\n",
      "RangeIndex: 53940 entries, 0 to 53939\n",
      "Data columns (total 11 columns):\n",
      " #   Column      Non-Null Count  Dtype  \n",
      "---  ------      --------------  -----  \n",
      " 0   Unnamed: 0  53940 non-null  int64  \n",
      " 1   carat       53940 non-null  float64\n",
      " 2   cut         53940 non-null  object \n",
      " 3   color       53940 non-null  object \n",
      " 4   clarity     53940 non-null  object \n",
      " 5   depth       53940 non-null  float64\n",
      " 6   table       53940 non-null  float64\n",
      " 7   price       53940 non-null  int64  \n",
      " 8   x           53940 non-null  float64\n",
      " 9   y           53940 non-null  float64\n",
      " 10  z           53940 non-null  float64\n",
      "dtypes: float64(6), int64(2), object(3)\n",
      "memory usage: 4.5+ MB\n"
     ]
    }
   ],
   "execution_count": 103
  },
  {
   "metadata": {},
   "cell_type": "markdown",
   "source": [
    "This dataset contains 53,940 patterns with 11 features:\n",
    "* Inputs:\n",
    "    - **Unnamed: 0**: index --> numerical\n",
    "    - **carat**: weight of the diamond (0.2--5.01) ->  numerical\n",
    "    - **cut**: quality of the cut (Fair, Good, Very Good, Premium, Ideal) --> categorical\n",
    "    - **color**: diamond colour, from J (worst) to D (best) --> categorical\n",
    "    - **clarity**: a measurement of how clear the diamond is (I1 (worst), SI2, SI1, VS2, VS1, VVS2, VVS1, IF (best)) --> categorical\n",
    "    - **depth**: total depth percentage = z / mean(x, y) = 2 * z / (x + y) (43--79) --> numerical \n",
    "    - **table**: width of top of diamond relative to widest point (43--95) --> numerical \n",
    "    - **x** length in mm (0--10.74) --> numerical \n",
    "    - **y**: width in mm (0--58.9) --> numerical \n",
    "    - **z**: depth in mm (0--31.8) --> numerical              \n",
    "* Output (target):\n",
    "    - **price**: price in US dollars (\\$326--\\$18,823) --> numerical   "
   ],
   "id": "28b4d34953c466bb"
  },
  {
   "metadata": {},
   "cell_type": "markdown",
   "source": [
    "### Data cleaning\n",
    "In this part we are going to apply some data preprocessing techniques such removing unnecessary columns, detecting null values and outliers."
   ],
   "id": "16b0a1a09cd4e51f"
  },
  {
   "metadata": {
    "ExecuteTime": {
     "end_time": "2024-12-06T15:02:02.119306Z",
     "start_time": "2024-12-06T15:02:02.090149Z"
    }
   },
   "cell_type": "code",
   "source": "df.info()",
   "id": "6392af348c368b9a",
   "outputs": [
    {
     "name": "stdout",
     "output_type": "stream",
     "text": [
      "<class 'pandas.core.frame.DataFrame'>\n",
      "RangeIndex: 53940 entries, 0 to 53939\n",
      "Data columns (total 11 columns):\n",
      " #   Column      Non-Null Count  Dtype  \n",
      "---  ------      --------------  -----  \n",
      " 0   Unnamed: 0  53940 non-null  int64  \n",
      " 1   carat       53940 non-null  float64\n",
      " 2   cut         53940 non-null  object \n",
      " 3   color       53940 non-null  object \n",
      " 4   clarity     53940 non-null  object \n",
      " 5   depth       53940 non-null  float64\n",
      " 6   table       53940 non-null  float64\n",
      " 7   price       53940 non-null  int64  \n",
      " 8   x           53940 non-null  float64\n",
      " 9   y           53940 non-null  float64\n",
      " 10  z           53940 non-null  float64\n",
      "dtypes: float64(6), int64(2), object(3)\n",
      "memory usage: 4.5+ MB\n"
     ]
    }
   ],
   "execution_count": 104
  },
  {
   "metadata": {},
   "cell_type": "markdown",
   "source": [
    "The first column it is an ID, which does not provide any representative value. Let's delete the first column called (Unnamed: 0)\n",
    "- axis=1--> for removing column\n",
    "- axis=0--> for removing row "
   ],
   "id": "7b664a083f6735bf"
  },
  {
   "metadata": {
    "ExecuteTime": {
     "end_time": "2024-12-06T15:02:05.660178Z",
     "start_time": "2024-12-06T15:02:05.647555Z"
    }
   },
   "cell_type": "code",
   "source": [
    "df = df.drop(['Unnamed: 0'],axis = 1)\n",
    "df.head(5)"
   ],
   "id": "da6970c38bf16a08",
   "outputs": [
    {
     "data": {
      "text/plain": [
       "   carat      cut color clarity  depth  table  price     x     y     z\n",
       "0   0.23    Ideal     E     SI2   61.5   55.0    326  3.95  3.98  2.43\n",
       "1   0.21  Premium     E     SI1   59.8   61.0    326  3.89  3.84  2.31\n",
       "2   0.23     Good     E     VS1   56.9   65.0    327  4.05  4.07  2.31\n",
       "3   0.29  Premium     I     VS2   62.4   58.0    334  4.20  4.23  2.63\n",
       "4   0.31     Good     J     SI2   63.3   58.0    335  4.34  4.35  2.75"
      ],
      "text/html": [
       "<div>\n",
       "<style scoped>\n",
       "    .dataframe tbody tr th:only-of-type {\n",
       "        vertical-align: middle;\n",
       "    }\n",
       "\n",
       "    .dataframe tbody tr th {\n",
       "        vertical-align: top;\n",
       "    }\n",
       "\n",
       "    .dataframe thead th {\n",
       "        text-align: right;\n",
       "    }\n",
       "</style>\n",
       "<table border=\"1\" class=\"dataframe\">\n",
       "  <thead>\n",
       "    <tr style=\"text-align: right;\">\n",
       "      <th></th>\n",
       "      <th>carat</th>\n",
       "      <th>cut</th>\n",
       "      <th>color</th>\n",
       "      <th>clarity</th>\n",
       "      <th>depth</th>\n",
       "      <th>table</th>\n",
       "      <th>price</th>\n",
       "      <th>x</th>\n",
       "      <th>y</th>\n",
       "      <th>z</th>\n",
       "    </tr>\n",
       "  </thead>\n",
       "  <tbody>\n",
       "    <tr>\n",
       "      <th>0</th>\n",
       "      <td>0.23</td>\n",
       "      <td>Ideal</td>\n",
       "      <td>E</td>\n",
       "      <td>SI2</td>\n",
       "      <td>61.5</td>\n",
       "      <td>55.0</td>\n",
       "      <td>326</td>\n",
       "      <td>3.95</td>\n",
       "      <td>3.98</td>\n",
       "      <td>2.43</td>\n",
       "    </tr>\n",
       "    <tr>\n",
       "      <th>1</th>\n",
       "      <td>0.21</td>\n",
       "      <td>Premium</td>\n",
       "      <td>E</td>\n",
       "      <td>SI1</td>\n",
       "      <td>59.8</td>\n",
       "      <td>61.0</td>\n",
       "      <td>326</td>\n",
       "      <td>3.89</td>\n",
       "      <td>3.84</td>\n",
       "      <td>2.31</td>\n",
       "    </tr>\n",
       "    <tr>\n",
       "      <th>2</th>\n",
       "      <td>0.23</td>\n",
       "      <td>Good</td>\n",
       "      <td>E</td>\n",
       "      <td>VS1</td>\n",
       "      <td>56.9</td>\n",
       "      <td>65.0</td>\n",
       "      <td>327</td>\n",
       "      <td>4.05</td>\n",
       "      <td>4.07</td>\n",
       "      <td>2.31</td>\n",
       "    </tr>\n",
       "    <tr>\n",
       "      <th>3</th>\n",
       "      <td>0.29</td>\n",
       "      <td>Premium</td>\n",
       "      <td>I</td>\n",
       "      <td>VS2</td>\n",
       "      <td>62.4</td>\n",
       "      <td>58.0</td>\n",
       "      <td>334</td>\n",
       "      <td>4.20</td>\n",
       "      <td>4.23</td>\n",
       "      <td>2.63</td>\n",
       "    </tr>\n",
       "    <tr>\n",
       "      <th>4</th>\n",
       "      <td>0.31</td>\n",
       "      <td>Good</td>\n",
       "      <td>J</td>\n",
       "      <td>SI2</td>\n",
       "      <td>63.3</td>\n",
       "      <td>58.0</td>\n",
       "      <td>335</td>\n",
       "      <td>4.34</td>\n",
       "      <td>4.35</td>\n",
       "      <td>2.75</td>\n",
       "    </tr>\n",
       "  </tbody>\n",
       "</table>\n",
       "</div>"
      ]
     },
     "execution_count": 105,
     "metadata": {},
     "output_type": "execute_result"
    }
   ],
   "execution_count": 105
  },
  {
   "metadata": {},
   "cell_type": "markdown",
   "source": "Now, let's look for inconsistent data such **null values**",
   "id": "bb43b65dd2ea9eb9"
  },
  {
   "metadata": {
    "ExecuteTime": {
     "end_time": "2024-12-06T15:02:07.259285Z",
     "start_time": "2024-12-06T15:02:07.237710Z"
    }
   },
   "cell_type": "code",
   "source": "df.isnull().sum()",
   "id": "7b3fa1e100f465a8",
   "outputs": [
    {
     "data": {
      "text/plain": [
       "carat      0\n",
       "cut        0\n",
       "color      0\n",
       "clarity    0\n",
       "depth      0\n",
       "table      0\n",
       "price      0\n",
       "x          0\n",
       "y          0\n",
       "z          0\n",
       "dtype: int64"
      ]
     },
     "execution_count": 106,
     "metadata": {},
     "output_type": "execute_result"
    }
   ],
   "execution_count": 106
  },
  {
   "metadata": {},
   "cell_type": "markdown",
   "source": "No null values in the dataset. But let's continue looking for some inconsistent values.",
   "id": "64aabea2b8799628"
  },
  {
   "metadata": {
    "ExecuteTime": {
     "end_time": "2024-12-06T15:02:09.090650Z",
     "start_time": "2024-12-06T15:02:09.061628Z"
    }
   },
   "cell_type": "code",
   "source": "df.describe()",
   "id": "9b5a8e1db9e1b0fb",
   "outputs": [
    {
     "data": {
      "text/plain": [
       "              carat         depth         table         price             x  \\\n",
       "count  53940.000000  53940.000000  53940.000000  53940.000000  53940.000000   \n",
       "mean       0.797940     61.749405     57.457184   3932.799722      5.731157   \n",
       "std        0.474011      1.432621      2.234491   3989.439738      1.121761   \n",
       "min        0.200000     43.000000     43.000000    326.000000      0.000000   \n",
       "25%        0.400000     61.000000     56.000000    950.000000      4.710000   \n",
       "50%        0.700000     61.800000     57.000000   2401.000000      5.700000   \n",
       "75%        1.040000     62.500000     59.000000   5324.250000      6.540000   \n",
       "max        5.010000     79.000000     95.000000  18823.000000     10.740000   \n",
       "\n",
       "                  y             z  \n",
       "count  53940.000000  53940.000000  \n",
       "mean       5.734526      3.538734  \n",
       "std        1.142135      0.705699  \n",
       "min        0.000000      0.000000  \n",
       "25%        4.720000      2.910000  \n",
       "50%        5.710000      3.530000  \n",
       "75%        6.540000      4.040000  \n",
       "max       58.900000     31.800000  "
      ],
      "text/html": [
       "<div>\n",
       "<style scoped>\n",
       "    .dataframe tbody tr th:only-of-type {\n",
       "        vertical-align: middle;\n",
       "    }\n",
       "\n",
       "    .dataframe tbody tr th {\n",
       "        vertical-align: top;\n",
       "    }\n",
       "\n",
       "    .dataframe thead th {\n",
       "        text-align: right;\n",
       "    }\n",
       "</style>\n",
       "<table border=\"1\" class=\"dataframe\">\n",
       "  <thead>\n",
       "    <tr style=\"text-align: right;\">\n",
       "      <th></th>\n",
       "      <th>carat</th>\n",
       "      <th>depth</th>\n",
       "      <th>table</th>\n",
       "      <th>price</th>\n",
       "      <th>x</th>\n",
       "      <th>y</th>\n",
       "      <th>z</th>\n",
       "    </tr>\n",
       "  </thead>\n",
       "  <tbody>\n",
       "    <tr>\n",
       "      <th>count</th>\n",
       "      <td>53940.000000</td>\n",
       "      <td>53940.000000</td>\n",
       "      <td>53940.000000</td>\n",
       "      <td>53940.000000</td>\n",
       "      <td>53940.000000</td>\n",
       "      <td>53940.000000</td>\n",
       "      <td>53940.000000</td>\n",
       "    </tr>\n",
       "    <tr>\n",
       "      <th>mean</th>\n",
       "      <td>0.797940</td>\n",
       "      <td>61.749405</td>\n",
       "      <td>57.457184</td>\n",
       "      <td>3932.799722</td>\n",
       "      <td>5.731157</td>\n",
       "      <td>5.734526</td>\n",
       "      <td>3.538734</td>\n",
       "    </tr>\n",
       "    <tr>\n",
       "      <th>std</th>\n",
       "      <td>0.474011</td>\n",
       "      <td>1.432621</td>\n",
       "      <td>2.234491</td>\n",
       "      <td>3989.439738</td>\n",
       "      <td>1.121761</td>\n",
       "      <td>1.142135</td>\n",
       "      <td>0.705699</td>\n",
       "    </tr>\n",
       "    <tr>\n",
       "      <th>min</th>\n",
       "      <td>0.200000</td>\n",
       "      <td>43.000000</td>\n",
       "      <td>43.000000</td>\n",
       "      <td>326.000000</td>\n",
       "      <td>0.000000</td>\n",
       "      <td>0.000000</td>\n",
       "      <td>0.000000</td>\n",
       "    </tr>\n",
       "    <tr>\n",
       "      <th>25%</th>\n",
       "      <td>0.400000</td>\n",
       "      <td>61.000000</td>\n",
       "      <td>56.000000</td>\n",
       "      <td>950.000000</td>\n",
       "      <td>4.710000</td>\n",
       "      <td>4.720000</td>\n",
       "      <td>2.910000</td>\n",
       "    </tr>\n",
       "    <tr>\n",
       "      <th>50%</th>\n",
       "      <td>0.700000</td>\n",
       "      <td>61.800000</td>\n",
       "      <td>57.000000</td>\n",
       "      <td>2401.000000</td>\n",
       "      <td>5.700000</td>\n",
       "      <td>5.710000</td>\n",
       "      <td>3.530000</td>\n",
       "    </tr>\n",
       "    <tr>\n",
       "      <th>75%</th>\n",
       "      <td>1.040000</td>\n",
       "      <td>62.500000</td>\n",
       "      <td>59.000000</td>\n",
       "      <td>5324.250000</td>\n",
       "      <td>6.540000</td>\n",
       "      <td>6.540000</td>\n",
       "      <td>4.040000</td>\n",
       "    </tr>\n",
       "    <tr>\n",
       "      <th>max</th>\n",
       "      <td>5.010000</td>\n",
       "      <td>79.000000</td>\n",
       "      <td>95.000000</td>\n",
       "      <td>18823.000000</td>\n",
       "      <td>10.740000</td>\n",
       "      <td>58.900000</td>\n",
       "      <td>31.800000</td>\n",
       "    </tr>\n",
       "  </tbody>\n",
       "</table>\n",
       "</div>"
      ]
     },
     "execution_count": 107,
     "metadata": {},
     "output_type": "execute_result"
    }
   ],
   "execution_count": 107
  },
  {
   "metadata": {},
   "cell_type": "markdown",
   "source": [
    "In the min value of x,y,z there are some zeros. This indicates that there are faulty values in data that represents dimensionless or \n",
    "2D diamonds. For instance, features derived from x, y, z will also be invalid if these dimensions are zero. So we need to filter this faulty values. Including such faulty data in the analysis or model training can introduce significant noise, lead to poor model performance."
   ],
   "id": "cf5b72d8e5ad413d"
  },
  {
   "metadata": {
    "ExecuteTime": {
     "end_time": "2024-12-06T15:02:10.517287Z",
     "start_time": "2024-12-06T15:02:10.481377Z"
    }
   },
   "cell_type": "code",
   "source": [
    "df = df[(df['x'] > 0) & (df['y'] > 0) & (df['z'] > 0)].copy()\n",
    "df = df.reset_index(drop=True)\n",
    "df.describe()"
   ],
   "id": "bc4affa3606f83d9",
   "outputs": [
    {
     "data": {
      "text/plain": [
       "              carat         depth         table         price             x  \\\n",
       "count  53920.000000  53920.000000  53920.000000  53920.000000  53920.000000   \n",
       "mean       0.797698     61.749514     57.456834   3930.993231      5.731627   \n",
       "std        0.473795      1.432331      2.234064   3987.280446      1.119423   \n",
       "min        0.200000     43.000000     43.000000    326.000000      3.730000   \n",
       "25%        0.400000     61.000000     56.000000    949.000000      4.710000   \n",
       "50%        0.700000     61.800000     57.000000   2401.000000      5.700000   \n",
       "75%        1.040000     62.500000     59.000000   5323.250000      6.540000   \n",
       "max        5.010000     79.000000     95.000000  18823.000000     10.740000   \n",
       "\n",
       "                  y             z  \n",
       "count  53920.000000  53920.000000  \n",
       "mean       5.734887      3.540046  \n",
       "std        1.140126      0.702530  \n",
       "min        3.680000      1.070000  \n",
       "25%        4.720000      2.910000  \n",
       "50%        5.710000      3.530000  \n",
       "75%        6.540000      4.040000  \n",
       "max       58.900000     31.800000  "
      ],
      "text/html": [
       "<div>\n",
       "<style scoped>\n",
       "    .dataframe tbody tr th:only-of-type {\n",
       "        vertical-align: middle;\n",
       "    }\n",
       "\n",
       "    .dataframe tbody tr th {\n",
       "        vertical-align: top;\n",
       "    }\n",
       "\n",
       "    .dataframe thead th {\n",
       "        text-align: right;\n",
       "    }\n",
       "</style>\n",
       "<table border=\"1\" class=\"dataframe\">\n",
       "  <thead>\n",
       "    <tr style=\"text-align: right;\">\n",
       "      <th></th>\n",
       "      <th>carat</th>\n",
       "      <th>depth</th>\n",
       "      <th>table</th>\n",
       "      <th>price</th>\n",
       "      <th>x</th>\n",
       "      <th>y</th>\n",
       "      <th>z</th>\n",
       "    </tr>\n",
       "  </thead>\n",
       "  <tbody>\n",
       "    <tr>\n",
       "      <th>count</th>\n",
       "      <td>53920.000000</td>\n",
       "      <td>53920.000000</td>\n",
       "      <td>53920.000000</td>\n",
       "      <td>53920.000000</td>\n",
       "      <td>53920.000000</td>\n",
       "      <td>53920.000000</td>\n",
       "      <td>53920.000000</td>\n",
       "    </tr>\n",
       "    <tr>\n",
       "      <th>mean</th>\n",
       "      <td>0.797698</td>\n",
       "      <td>61.749514</td>\n",
       "      <td>57.456834</td>\n",
       "      <td>3930.993231</td>\n",
       "      <td>5.731627</td>\n",
       "      <td>5.734887</td>\n",
       "      <td>3.540046</td>\n",
       "    </tr>\n",
       "    <tr>\n",
       "      <th>std</th>\n",
       "      <td>0.473795</td>\n",
       "      <td>1.432331</td>\n",
       "      <td>2.234064</td>\n",
       "      <td>3987.280446</td>\n",
       "      <td>1.119423</td>\n",
       "      <td>1.140126</td>\n",
       "      <td>0.702530</td>\n",
       "    </tr>\n",
       "    <tr>\n",
       "      <th>min</th>\n",
       "      <td>0.200000</td>\n",
       "      <td>43.000000</td>\n",
       "      <td>43.000000</td>\n",
       "      <td>326.000000</td>\n",
       "      <td>3.730000</td>\n",
       "      <td>3.680000</td>\n",
       "      <td>1.070000</td>\n",
       "    </tr>\n",
       "    <tr>\n",
       "      <th>25%</th>\n",
       "      <td>0.400000</td>\n",
       "      <td>61.000000</td>\n",
       "      <td>56.000000</td>\n",
       "      <td>949.000000</td>\n",
       "      <td>4.710000</td>\n",
       "      <td>4.720000</td>\n",
       "      <td>2.910000</td>\n",
       "    </tr>\n",
       "    <tr>\n",
       "      <th>50%</th>\n",
       "      <td>0.700000</td>\n",
       "      <td>61.800000</td>\n",
       "      <td>57.000000</td>\n",
       "      <td>2401.000000</td>\n",
       "      <td>5.700000</td>\n",
       "      <td>5.710000</td>\n",
       "      <td>3.530000</td>\n",
       "    </tr>\n",
       "    <tr>\n",
       "      <th>75%</th>\n",
       "      <td>1.040000</td>\n",
       "      <td>62.500000</td>\n",
       "      <td>59.000000</td>\n",
       "      <td>5323.250000</td>\n",
       "      <td>6.540000</td>\n",
       "      <td>6.540000</td>\n",
       "      <td>4.040000</td>\n",
       "    </tr>\n",
       "    <tr>\n",
       "      <th>max</th>\n",
       "      <td>5.010000</td>\n",
       "      <td>79.000000</td>\n",
       "      <td>95.000000</td>\n",
       "      <td>18823.000000</td>\n",
       "      <td>10.740000</td>\n",
       "      <td>58.900000</td>\n",
       "      <td>31.800000</td>\n",
       "    </tr>\n",
       "  </tbody>\n",
       "</table>\n",
       "</div>"
      ]
     },
     "execution_count": 108,
     "metadata": {},
     "output_type": "execute_result"
    }
   ],
   "execution_count": 108
  },
  {
   "metadata": {},
   "cell_type": "markdown",
   "source": "Notice that now we have 53920 patterns, which means we have dropped 20 rows with faulty values.",
   "id": "9c4d94d66d12452"
  },
  {
   "metadata": {},
   "cell_type": "markdown",
   "source": [
    "Another step that we must do in the process of data cleaning is to **detect outliers**. There are many methods thecniques for oulier detection, but for numerical features, we can apply a statistical method called Interquartile Range (IQR):\n",
    "\n",
    "$\\text{IQR} = Q3 - Q1$\n",
    "\n",
    "Outliers are defined as data points that fall below:\n",
    "\n",
    "$\\text{Lower Bound} = Q1 - 1.5 \\cdot \\text{IQR}$\n",
    "\n",
    "or above:\n",
    "\n",
    "$ \\text{Upper Bound} = Q3 + 1.5 \\cdot \\text{IQR}$\n",
    "\n",
    "Data points outside these bounds are considered outliers and can be removed for better mode"
   ],
   "id": "71e0afb4687aea13"
  },
  {
   "metadata": {
    "ExecuteTime": {
     "end_time": "2024-12-06T15:02:12.750764Z",
     "start_time": "2024-12-06T15:02:12.723040Z"
    }
   },
   "cell_type": "code",
   "source": [
    "# Select only numeric columns\n",
    "df_numeric = df.select_dtypes(include=['float64', 'int64'])\n",
    "\n",
    "# Compute Q1, Q3, and IQR\n",
    "Q1 = df_numeric.quantile(0.25)\n",
    "Q3 = df_numeric.quantile(0.75)\n",
    "IQR = Q3 - Q1\n",
    "\n",
    "# Identify outliers\n",
    "outliers = (df_numeric < (Q1 - 1.5 * IQR)) | (df_numeric > (Q3 + 1.5 * IQR))\n",
    "print(\"Number of outliers per column:\\n\", outliers.sum())"
   ],
   "id": "63e1ec095403bbe",
   "outputs": [
    {
     "name": "stdout",
     "output_type": "stream",
     "text": [
      "Number of outliers per column:\n",
      " carat    1883\n",
      "depth    2543\n",
      "table     604\n",
      "price    3532\n",
      "x          24\n",
      "y          22\n",
      "z          29\n",
      "dtype: int64\n"
     ]
    }
   ],
   "execution_count": 109
  },
  {
   "metadata": {},
   "cell_type": "markdown",
   "source": [
    "Columns with high number of outliers:\n",
    "- price: 3532 outliers\n",
    "- depth: 2543 outliers\n",
    "- carat: 1883 outliers\n",
    "- table: 604 outliers\n",
    "\n",
    "These columns may require careful handling, as removing too many rows can distort the dataset.\n",
    "\n",
    "Columns with few number of outliers:\n",
    "- x: 24 outliers\n",
    "- y: 22 outliers\n",
    "- z: 29 outliers\n",
    "\n",
    "These are likely edge cases and can be safely removed without significant data loss.\n",
    "\n",
    "So, before removing them, it’s essential to understand their distribution:"
   ],
   "id": "b157bf8213402c09"
  },
  {
   "metadata": {
    "ExecuteTime": {
     "end_time": "2024-12-06T15:02:15.980011Z",
     "start_time": "2024-12-06T15:02:15.145013Z"
    }
   },
   "cell_type": "code",
   "source": [
    "for column in df_numeric.columns:\n",
    "    sns.boxplot(x=df_numeric[column])\n",
    "    plt.title(f\"Boxplot for {column}\")\n",
    "    plt.show()"
   ],
   "id": "78fcfd5faf6336a5",
   "outputs": [
    {
     "data": {
      "text/plain": [
       "<Figure size 640x480 with 1 Axes>"
      ],
      "image/png": "[encoded data removed]"
     },
     "metadata": {},
     "output_type": "display_data"
    },
    {
     "data": {
      "text/plain": [
       "<Figure size 640x480 with 1 Axes>"
      ],
      "image/png": "[encoded data removed]"
     },
     "metadata": {},
     "output_type": "display_data"
    },
    {
     "data": {
      "text/plain": [
       "<Figure size 640x480 with 1 Axes>"
      ],
      "image/png": "[encoded data removed]"
     },
     "metadata": {},
     "output_type": "display_data"
    },
    {
     "data": {
      "text/plain": [
       "<Figure size 640x480 with 1 Axes>"
      ],
      "image/png": "[encoded data removed]"
     },
     "metadata": {},
     "output_type": "display_data"
    },
    {
     "data": {
      "text/plain": [
       "<Figure size 640x480 with 1 Axes>"
      ],
      "image/png": "[encoded data removed]"
     },
     "metadata": {},
     "output_type": "display_data"
    },
    {
     "data": {
      "text/plain": [
       "<Figure size 640x480 with 1 Axes>"
      ],
      "image/png": "[encoded data removed]"
     },
     "metadata": {},
     "output_type": "display_data"
    },
    {
     "data": {
      "text/plain": [
       "<Figure size 640x480 with 1 Axes>"
      ],
      "image/png": "[encoded data removed]"
     },
     "metadata": {},
     "output_type": "display_data"
    }
   ],
   "execution_count": 110
  },
  {
   "metadata": {},
   "cell_type": "markdown",
   "source": "By looking at the boxplots, we can see that there are a lot of outliers near he IQR boundaries and whiskers while other are much further taking some extreme values. So, let's see how many outliers are in taking those extreme values.",
   "id": "4207af63ff05b1e8"
  },
  {
   "metadata": {
    "ExecuteTime": {
     "end_time": "2024-12-06T15:02:19.524879Z",
     "start_time": "2024-12-06T15:02:19.506092Z"
    }
   },
   "cell_type": "code",
   "source": [
    "# Define mild and extreme bounds\n",
    "mild_lower_bound = Q1 - 1.5 * IQR\n",
    "mild_upper_bound = Q3 + 1.5 * IQR\n",
    "extreme_lower_bound = Q1 - 3 * IQR\n",
    "extreme_upper_bound = Q3 + 3 * IQR\n",
    "\n",
    "# Identify extreme outliers\n",
    "extreme_outliers = (df_numeric < extreme_lower_bound) | (df_numeric > extreme_upper_bound)\n",
    "print(\"Number of extreme outliers per column:\\n\", extreme_outliers.sum())"
   ],
   "id": "7e0f38b7f4d3f35a",
   "outputs": [
    {
     "name": "stdout",
     "output_type": "stream",
     "text": [
      "Number of extreme outliers per column:\n",
      " carat     40\n",
      "depth    278\n",
      "table     28\n",
      "price    121\n",
      "x          0\n",
      "y          2\n",
      "z          2\n",
      "dtype: int64\n"
     ]
    }
   ],
   "execution_count": 111
  },
  {
   "metadata": {},
   "cell_type": "markdown",
   "source": [
    "With those results, we will proceed as following:\n",
    "\n",
    "- For physical dimensions (x, y, z): we will treat all the outliers outside the mild bounds as errors and they will be deleted\n",
    "- For key predictors (carat, depth, table and price): we will retain the values in the mild bound and delete the ones that are in the extreme bounds.\n",
    "\n",
    "So, the goal of taking into account this considerations,is to try to remove extreme deviations that could negatively affect models while trying to mantain as much as possible the dataset's diversity.\n"
   ],
   "id": "b11b3c113a8edb25"
  },
  {
   "metadata": {
    "ExecuteTime": {
     "end_time": "2024-12-06T15:02:21.880841Z",
     "start_time": "2024-12-06T15:02:21.848986Z"
    }
   },
   "cell_type": "code",
   "source": [
    "# Initialize a copy of the dataframe\n",
    "df_cleaned = df_numeric.copy()\n",
    "\n",
    "# 1. Handle physical dimensions (x, y, z): Remove all outliers outside mild bounds\n",
    "for col in ['x', 'y', 'z']:\n",
    "    df_cleaned = df_cleaned[\n",
    "        (df_cleaned[col] >= mild_lower_bound[col]) & (df_cleaned[col] <= mild_upper_bound[col])\n",
    "    ]\n",
    "\n",
    "# 2. Handle key predictors (carat, depth, table, price): Retain mild outliers, remove extreme\n",
    "for col in ['carat', 'depth', 'table', 'price']:\n",
    "    df_cleaned = df_cleaned[\n",
    "        (df_cleaned[col] >= extreme_lower_bound[col]) & (df_cleaned[col] <= extreme_upper_bound[col])\n",
    "    ]\n",
    "\n",
    "print(f\"Shape of the original dataset: {df_numeric.shape}\")\n",
    "print(f\"Shape of the cleaned dataset: {df_cleaned.shape}\")"
   ],
   "id": "c7d45c74edbdc38d",
   "outputs": [
    {
     "name": "stdout",
     "output_type": "stream",
     "text": [
      "Shape of the original dataset: (53920, 7)\n",
      "Shape of the cleaned dataset: (53468, 7)\n"
     ]
    }
   ],
   "execution_count": 112
  },
  {
   "metadata": {},
   "cell_type": "markdown",
   "source": [
    "### Encode categorical features\n",
    "Ordinal encoding maps each category to a numeric rank based on its order.\n",
    "* cut: Fair, Good, Very Good, Premium, Ideal\n",
    "* color: J (worst), I, H, G, F, E, D (best)\n",
    "* clarity: I1, SI2, SI1, VS2, VS1, VVS2, VVS1, IF"
   ],
   "id": "fad5fd5fc8d253ca"
  },
  {
   "metadata": {
    "ExecuteTime": {
     "end_time": "2024-12-06T15:02:25.129298Z",
     "start_time": "2024-12-06T15:02:25.096669Z"
    }
   },
   "cell_type": "code",
   "source": [
    "# Retain non-numeric columns separately\n",
    "non_numeric_columns = ['cut', 'color', 'clarity']\n",
    "non_numeric_data = df.loc[df_cleaned.index, non_numeric_columns]  # Use the same index as df_cleaned\n",
    "\n",
    "# Combine cleaned numeric data with the non-numeric data\n",
    "df_cleaned = pd.concat([df_cleaned, non_numeric_data], axis=1)\n",
    "\n",
    "cut_mapping = {'Fair': 1, 'Good': 2, 'Very Good': 3, 'Premium': 4, 'Ideal': 5}\n",
    "df_cleaned['cut'] = df_cleaned['cut'].map(cut_mapping)\n",
    "\n",
    "color_mapping = {'J': 1, 'I': 2, 'H': 3, 'G': 4, 'F': 5, 'E': 6, 'D': 7}\n",
    "df_cleaned['color'] = df_cleaned['color'].map(color_mapping)\n",
    "\n",
    "clarity_mapping = {'I1': 1, 'SI2': 2, 'SI1': 3, 'VS2': 4, 'VS1': 5, 'VVS2': 6, 'VVS1': 7, 'IF': 8}\n",
    "df_cleaned['clarity'] = df_cleaned['clarity'].map(clarity_mapping)\n",
    "\n",
    "print(df_cleaned.shape)\n",
    "df_cleaned.head(5)"
   ],
   "id": "ebff4d8dc2f8126c",
   "outputs": [
    {
     "name": "stdout",
     "output_type": "stream",
     "text": [
      "(53468, 10)\n"
     ]
    },
    {
     "data": {
      "text/plain": [
       "   carat  depth  table  price     x     y     z  cut  color  clarity\n",
       "0   0.23   61.5   55.0    326  3.95  3.98  2.43    5      6        2\n",
       "1   0.21   59.8   61.0    326  3.89  3.84  2.31    4      6        3\n",
       "2   0.23   56.9   65.0    327  4.05  4.07  2.31    2      6        5\n",
       "3   0.29   62.4   58.0    334  4.20  4.23  2.63    4      2        4\n",
       "4   0.31   63.3   58.0    335  4.34  4.35  2.75    2      1        2"
      ],
      "text/html": [
       "<div>\n",
       "<style scoped>\n",
       "    .dataframe tbody tr th:only-of-type {\n",
       "        vertical-align: middle;\n",
       "    }\n",
       "\n",
       "    .dataframe tbody tr th {\n",
       "        vertical-align: top;\n",
       "    }\n",
       "\n",
       "    .dataframe thead th {\n",
       "        text-align: right;\n",
       "    }\n",
       "</style>\n",
       "<table border=\"1\" class=\"dataframe\">\n",
       "  <thead>\n",
       "    <tr style=\"text-align: right;\">\n",
       "      <th></th>\n",
       "      <th>carat</th>\n",
       "      <th>depth</th>\n",
       "      <th>table</th>\n",
       "      <th>price</th>\n",
       "      <th>x</th>\n",
       "      <th>y</th>\n",
       "      <th>z</th>\n",
       "      <th>cut</th>\n",
       "      <th>color</th>\n",
       "      <th>clarity</th>\n",
       "    </tr>\n",
       "  </thead>\n",
       "  <tbody>\n",
       "    <tr>\n",
       "      <th>0</th>\n",
       "      <td>0.23</td>\n",
       "      <td>61.5</td>\n",
       "      <td>55.0</td>\n",
       "      <td>326</td>\n",
       "      <td>3.95</td>\n",
       "      <td>3.98</td>\n",
       "      <td>2.43</td>\n",
       "      <td>5</td>\n",
       "      <td>6</td>\n",
       "      <td>2</td>\n",
       "    </tr>\n",
       "    <tr>\n",
       "      <th>1</th>\n",
       "      <td>0.21</td>\n",
       "      <td>59.8</td>\n",
       "      <td>61.0</td>\n",
       "      <td>326</td>\n",
       "      <td>3.89</td>\n",
       "      <td>3.84</td>\n",
       "      <td>2.31</td>\n",
       "      <td>4</td>\n",
       "      <td>6</td>\n",
       "      <td>3</td>\n",
       "    </tr>\n",
       "    <tr>\n",
       "      <th>2</th>\n",
       "      <td>0.23</td>\n",
       "      <td>56.9</td>\n",
       "      <td>65.0</td>\n",
       "      <td>327</td>\n",
       "      <td>4.05</td>\n",
       "      <td>4.07</td>\n",
       "      <td>2.31</td>\n",
       "      <td>2</td>\n",
       "      <td>6</td>\n",
       "      <td>5</td>\n",
       "    </tr>\n",
       "    <tr>\n",
       "      <th>3</th>\n",
       "      <td>0.29</td>\n",
       "      <td>62.4</td>\n",
       "      <td>58.0</td>\n",
       "      <td>334</td>\n",
       "      <td>4.20</td>\n",
       "      <td>4.23</td>\n",
       "      <td>2.63</td>\n",
       "      <td>4</td>\n",
       "      <td>2</td>\n",
       "      <td>4</td>\n",
       "    </tr>\n",
       "    <tr>\n",
       "      <th>4</th>\n",
       "      <td>0.31</td>\n",
       "      <td>63.3</td>\n",
       "      <td>58.0</td>\n",
       "      <td>335</td>\n",
       "      <td>4.34</td>\n",
       "      <td>4.35</td>\n",
       "      <td>2.75</td>\n",
       "      <td>2</td>\n",
       "      <td>1</td>\n",
       "      <td>2</td>\n",
       "    </tr>\n",
       "  </tbody>\n",
       "</table>\n",
       "</div>"
      ]
     },
     "execution_count": 113,
     "metadata": {},
     "output_type": "execute_result"
    }
   ],
   "execution_count": 113
  },
  {
   "metadata": {},
   "cell_type": "markdown",
   "source": [
    "### Normalize/scale numerical features\n",
    "We will normalize the numerical columns to ensure they are on a similar scale. On the other hand, encoded categorical values (e.g., 1, 2, 3 for ordinal data like 'cut') are already scaled to represent their categories."
   ],
   "id": "d898219faf7bf463"
  },
  {
   "metadata": {
    "ExecuteTime": {
     "end_time": "2024-12-06T15:02:45.844901Z",
     "start_time": "2024-12-06T15:02:45.819124Z"
    }
   },
   "cell_type": "code",
   "source": [
    "from sklearn.preprocessing import MinMaxScaler\n",
    "scaler = MinMaxScaler()\n",
    "\n",
    "# Separate numeric and categorical features\n",
    "numeric_features = df_cleaned[['carat', 'depth', 'table', 'price', 'x', 'y', 'z']]\n",
    "categorical_features = df_cleaned[['cut', 'color', 'clarity']]\n",
    "\n",
    "# Normalize numeric features\n",
    "numeric_features_scaled = pd.DataFrame(\n",
    "    scaler.fit_transform(numeric_features),\n",
    "    columns=numeric_features.columns,\n",
    "    index=numeric_features.index\n",
    ")\n",
    "\n",
    "# Combine scaled numeric features with categorical features\n",
    "df_scaled = pd.concat([numeric_features_scaled, categorical_features], axis=1)\n",
    "df_scaled.head(5)"
   ],
   "id": "c7d8f5302ab82f78",
   "outputs": [
    {
     "data": {
      "text/plain": [
       "      carat     depth     table     price         x         y         z  cut  \\\n",
       "0  0.011538  0.476190  0.315789  0.000000  0.040441  0.055046  0.240566    5   \n",
       "1  0.003846  0.314286  0.631579  0.000000  0.029412  0.029358  0.212264    4   \n",
       "2  0.011538  0.038095  0.842105  0.000055  0.058824  0.071560  0.212264    2   \n",
       "3  0.034615  0.561905  0.473684  0.000442  0.086397  0.100917  0.287736    4   \n",
       "4  0.042308  0.647619  0.473684  0.000497  0.112132  0.122936  0.316038    2   \n",
       "\n",
       "   color  clarity  \n",
       "0      6        2  \n",
       "1      6        3  \n",
       "2      6        5  \n",
       "3      2        4  \n",
       "4      1        2  "
      ],
      "text/html": [
       "<div>\n",
       "<style scoped>\n",
       "    .dataframe tbody tr th:only-of-type {\n",
       "        vertical-align: middle;\n",
       "    }\n",
       "\n",
       "    .dataframe tbody tr th {\n",
       "        vertical-align: top;\n",
       "    }\n",
       "\n",
       "    .dataframe thead th {\n",
       "        text-align: right;\n",
       "    }\n",
       "</style>\n",
       "<table border=\"1\" class=\"dataframe\">\n",
       "  <thead>\n",
       "    <tr style=\"text-align: right;\">\n",
       "      <th></th>\n",
       "      <th>carat</th>\n",
       "      <th>depth</th>\n",
       "      <th>table</th>\n",
       "      <th>price</th>\n",
       "      <th>x</th>\n",
       "      <th>y</th>\n",
       "      <th>z</th>\n",
       "      <th>cut</th>\n",
       "      <th>color</th>\n",
       "      <th>clarity</th>\n",
       "    </tr>\n",
       "  </thead>\n",
       "  <tbody>\n",
       "    <tr>\n",
       "      <th>0</th>\n",
       "      <td>0.011538</td>\n",
       "      <td>0.476190</td>\n",
       "      <td>0.315789</td>\n",
       "      <td>0.000000</td>\n",
       "      <td>0.040441</td>\n",
       "      <td>0.055046</td>\n",
       "      <td>0.240566</td>\n",
       "      <td>5</td>\n",
       "      <td>6</td>\n",
       "      <td>2</td>\n",
       "    </tr>\n",
       "    <tr>\n",
       "      <th>1</th>\n",
       "      <td>0.003846</td>\n",
       "      <td>0.314286</td>\n",
       "      <td>0.631579</td>\n",
       "      <td>0.000000</td>\n",
       "      <td>0.029412</td>\n",
       "      <td>0.029358</td>\n",
       "      <td>0.212264</td>\n",
       "      <td>4</td>\n",
       "      <td>6</td>\n",
       "      <td>3</td>\n",
       "    </tr>\n",
       "    <tr>\n",
       "      <th>2</th>\n",
       "      <td>0.011538</td>\n",
       "      <td>0.038095</td>\n",
       "      <td>0.842105</td>\n",
       "      <td>0.000055</td>\n",
       "      <td>0.058824</td>\n",
       "      <td>0.071560</td>\n",
       "      <td>0.212264</td>\n",
       "      <td>2</td>\n",
       "      <td>6</td>\n",
       "      <td>5</td>\n",
       "    </tr>\n",
       "    <tr>\n",
       "      <th>3</th>\n",
       "      <td>0.034615</td>\n",
       "      <td>0.561905</td>\n",
       "      <td>0.473684</td>\n",
       "      <td>0.000442</td>\n",
       "      <td>0.086397</td>\n",
       "      <td>0.100917</td>\n",
       "      <td>0.287736</td>\n",
       "      <td>4</td>\n",
       "      <td>2</td>\n",
       "      <td>4</td>\n",
       "    </tr>\n",
       "    <tr>\n",
       "      <th>4</th>\n",
       "      <td>0.042308</td>\n",
       "      <td>0.647619</td>\n",
       "      <td>0.473684</td>\n",
       "      <td>0.000497</td>\n",
       "      <td>0.112132</td>\n",
       "      <td>0.122936</td>\n",
       "      <td>0.316038</td>\n",
       "      <td>2</td>\n",
       "      <td>1</td>\n",
       "      <td>2</td>\n",
       "    </tr>\n",
       "  </tbody>\n",
       "</table>\n",
       "</div>"
      ]
     },
     "execution_count": 114,
     "metadata": {},
     "output_type": "execute_result"
    }
   ],
   "execution_count": 114
  },
  {
   "metadata": {
    "ExecuteTime": {
     "end_time": "2024-12-06T15:02:50.035688Z",
     "start_time": "2024-12-06T15:02:50.000128Z"
    }
   },
   "cell_type": "code",
   "source": "df_scaled.describe()",
   "id": "b24213a5daff4545",
   "outputs": [
    {
     "data": {
      "text/plain": [
       "              carat         depth         table         price             x  \\\n",
       "count  53468.000000  53468.000000  53468.000000  53468.000000  53468.000000   \n",
       "mean       0.227625      0.499233      0.444106      0.196783      0.365957   \n",
       "std        0.178855      0.127556      0.115430      0.216673      0.204163   \n",
       "min        0.000000      0.000000      0.000000      0.000000      0.000000   \n",
       "25%        0.076923      0.428571      0.368421      0.034163      0.180147   \n",
       "50%        0.192308      0.504762      0.421053      0.113969      0.360294   \n",
       "75%        0.323077      0.571429      0.526316      0.274077      0.514706   \n",
       "max        1.000000      1.000000      1.000000      1.000000      1.000000   \n",
       "\n",
       "                  y             z           cut         color       clarity  \n",
       "count  53468.000000  53468.000000  53468.000000  53468.000000  53468.000000  \n",
       "mean       0.374901      0.500562      3.920682      4.410844      4.060878  \n",
       "std        0.202368      0.161570      1.098771      1.700805      1.644260  \n",
       "min        0.000000      0.000000      1.000000      1.000000      1.000000  \n",
       "25%        0.190826      0.353774      3.000000      3.000000      3.000000  \n",
       "50%        0.370642      0.497642      4.000000      4.000000      4.000000  \n",
       "75%        0.522936      0.617925      5.000000      6.000000      5.000000  \n",
       "max        1.000000      1.000000      5.000000      7.000000      8.000000  "
      ],
      "text/html": [
       "<div>\n",
       "<style scoped>\n",
       "    .dataframe tbody tr th:only-of-type {\n",
       "        vertical-align: middle;\n",
       "    }\n",
       "\n",
       "    .dataframe tbody tr th {\n",
       "        vertical-align: top;\n",
       "    }\n",
       "\n",
       "    .dataframe thead th {\n",
       "        text-align: right;\n",
       "    }\n",
       "</style>\n",
       "<table border=\"1\" class=\"dataframe\">\n",
       "  <thead>\n",
       "    <tr style=\"text-align: right;\">\n",
       "      <th></th>\n",
       "      <th>carat</th>\n",
       "      <th>depth</th>\n",
       "      <th>table</th>\n",
       "      <th>price</th>\n",
       "      <th>x</th>\n",
       "      <th>y</th>\n",
       "      <th>z</th>\n",
       "      <th>cut</th>\n",
       "      <th>color</th>\n",
       "      <th>clarity</th>\n",
       "    </tr>\n",
       "  </thead>\n",
       "  <tbody>\n",
       "    <tr>\n",
       "      <th>count</th>\n",
       "      <td>53468.000000</td>\n",
       "      <td>53468.000000</td>\n",
       "      <td>53468.000000</td>\n",
       "      <td>53468.000000</td>\n",
       "      <td>53468.000000</td>\n",
       "      <td>53468.000000</td>\n",
       "      <td>53468.000000</td>\n",
       "      <td>53468.000000</td>\n",
       "      <td>53468.000000</td>\n",
       "      <td>53468.000000</td>\n",
       "    </tr>\n",
       "    <tr>\n",
       "      <th>mean</th>\n",
       "      <td>0.227625</td>\n",
       "      <td>0.499233</td>\n",
       "      <td>0.444106</td>\n",
       "      <td>0.196783</td>\n",
       "      <td>0.365957</td>\n",
       "      <td>0.374901</td>\n",
       "      <td>0.500562</td>\n",
       "      <td>3.920682</td>\n",
       "      <td>4.410844</td>\n",
       "      <td>4.060878</td>\n",
       "    </tr>\n",
       "    <tr>\n",
       "      <th>std</th>\n",
       "      <td>0.178855</td>\n",
       "      <td>0.127556</td>\n",
       "      <td>0.115430</td>\n",
       "      <td>0.216673</td>\n",
       "      <td>0.204163</td>\n",
       "      <td>0.202368</td>\n",
       "      <td>0.161570</td>\n",
       "      <td>1.098771</td>\n",
       "      <td>1.700805</td>\n",
       "      <td>1.644260</td>\n",
       "    </tr>\n",
       "    <tr>\n",
       "      <th>min</th>\n",
       "      <td>0.000000</td>\n",
       "      <td>0.000000</td>\n",
       "      <td>0.000000</td>\n",
       "      <td>0.000000</td>\n",
       "      <td>0.000000</td>\n",
       "      <td>0.000000</td>\n",
       "      <td>0.000000</td>\n",
       "      <td>1.000000</td>\n",
       "      <td>1.000000</td>\n",
       "      <td>1.000000</td>\n",
       "    </tr>\n",
       "    <tr>\n",
       "      <th>25%</th>\n",
       "      <td>0.076923</td>\n",
       "      <td>0.428571</td>\n",
       "      <td>0.368421</td>\n",
       "      <td>0.034163</td>\n",
       "      <td>0.180147</td>\n",
       "      <td>0.190826</td>\n",
       "      <td>0.353774</td>\n",
       "      <td>3.000000</td>\n",
       "      <td>3.000000</td>\n",
       "      <td>3.000000</td>\n",
       "    </tr>\n",
       "    <tr>\n",
       "      <th>50%</th>\n",
       "      <td>0.192308</td>\n",
       "      <td>0.504762</td>\n",
       "      <td>0.421053</td>\n",
       "      <td>0.113969</td>\n",
       "      <td>0.360294</td>\n",
       "      <td>0.370642</td>\n",
       "      <td>0.497642</td>\n",
       "      <td>4.000000</td>\n",
       "      <td>4.000000</td>\n",
       "      <td>4.000000</td>\n",
       "    </tr>\n",
       "    <tr>\n",
       "      <th>75%</th>\n",
       "      <td>0.323077</td>\n",
       "      <td>0.571429</td>\n",
       "      <td>0.526316</td>\n",
       "      <td>0.274077</td>\n",
       "      <td>0.514706</td>\n",
       "      <td>0.522936</td>\n",
       "      <td>0.617925</td>\n",
       "      <td>5.000000</td>\n",
       "      <td>6.000000</td>\n",
       "      <td>5.000000</td>\n",
       "    </tr>\n",
       "    <tr>\n",
       "      <th>max</th>\n",
       "      <td>1.000000</td>\n",
       "      <td>1.000000</td>\n",
       "      <td>1.000000</td>\n",
       "      <td>1.000000</td>\n",
       "      <td>1.000000</td>\n",
       "      <td>1.000000</td>\n",
       "      <td>1.000000</td>\n",
       "      <td>5.000000</td>\n",
       "      <td>7.000000</td>\n",
       "      <td>8.000000</td>\n",
       "    </tr>\n",
       "  </tbody>\n",
       "</table>\n",
       "</div>"
      ]
     },
     "execution_count": 115,
     "metadata": {},
     "output_type": "execute_result"
    }
   ],
   "execution_count": 115
  },
  {
   "metadata": {},
   "cell_type": "markdown",
   "source": [
    "After normalization:\n",
    "\n",
    "- The numeric columns (carat, depth, table, price, x, y, z) have values between 0 and 1.\n",
    "- The categorical columns (cut, color, clarity) remain unchanged."
   ],
   "id": "572085e5329d0e79"
  },
  {
   "metadata": {
    "ExecuteTime": {
     "end_time": "2024-12-06T15:02:57.527518Z",
     "start_time": "2024-12-06T15:02:57.306644Z"
    }
   },
   "cell_type": "code",
   "source": [
    "# Compute the correlation matrix\n",
    "correlation_matrix = df_scaled.corr()\n",
    "\n",
    "# Create a heatmap\n",
    "plt.figure(figsize=(10, 8))\n",
    "sns.heatmap(correlation_matrix, annot=True, fmt=\".2f\", cmap=\"coolwarm\", vmin=-1, vmax=1, linewidths=0.5)\n",
    "plt.title(\"Correlation Map\")\n",
    "plt.show()"
   ],
   "id": "d047d19db852101e",
   "outputs": [
    {
     "data": {
      "text/plain": [
       "<Figure size 1000x800 with 2 Axes>"
      ],
      "image/png": "[encoded data removed]"
     },
     "metadata": {},
     "output_type": "display_data"
    }
   ],
   "execution_count": 116
  },
  {
   "metadata": {},
   "cell_type": "markdown",
   "source": [
    "Once we have our data properly cleaned and scaled, we can extract some observations through the correlation map:\n",
    "\n",
    "- The most significant predictor of price appears to be carat, as it is strongly correlated with both price and physical dimensions (x, y, z).\n",
    "\n",
    "- Physical dimensions like x, y, and z also show strong positive correlations with price, meaning that larger diamonds tend to be more expensive.\n",
    "\n",
    "- Features like cut, color, and clarity do not show strong linear correlations with price (negative correlation)\n",
    "\n",
    "- The weak correlations of depth and table with most other features suggest that these attributes might not be as critical in predicting price, but they could still contribute marginally."
   ],
   "id": "f299ff0e7272d66c"
  },
  {
   "metadata": {
    "ExecuteTime": {
     "end_time": "2024-12-06T15:03:05.327900Z",
     "start_time": "2024-12-06T15:03:05.056141Z"
    }
   },
   "cell_type": "code",
   "source": [
    "# Save to csv\n",
    "df_scaled.to_csv(\"../data/preprocessed_data.csv\", index=False)"
   ],
   "id": "7d67d3b2765f5f78",
   "outputs": [],
   "execution_count": 117
  },
  {
   "metadata": {},
   "cell_type": "markdown",
   "source": [
    "### Split data\n",
    "Split data into 80% for train and 20% for test"
   ],
   "id": "a043c1635bfbcc93"
  },
  {
   "metadata": {
    "ExecuteTime": {
     "end_time": "2024-12-06T15:03:10.159264Z",
     "start_time": "2024-12-06T15:03:10.144130Z"
    }
   },
   "cell_type": "code",
   "source": [
    "from sklearn.model_selection import train_test_split\n",
    "\n",
    "X = df_scaled.drop(['price'], axis=1)  # Features\n",
    "y = df_scaled['price']                # Target variable\n",
    "X_train, X_test, y_train, y_test = train_test_split(X, y, test_size=0.2, random_state=42)\n",
    "\n",
    "print (df_scaled.shape)\n",
    "#print the training and testing sets shape\n",
    "print(X_train.shape, y_train.shape)\n",
    "print(X_test.shape, y_test.shape)"
   ],
   "id": "61acd975af57f26a",
   "outputs": [
    {
     "name": "stdout",
     "output_type": "stream",
     "text": [
      "(53468, 10)\n",
      "(42774, 9) (42774,)\n",
      "(10694, 9) (10694,)\n"
     ]
    }
   ],
   "execution_count": 118
  },
  {
   "metadata": {
    "ExecuteTime": {
     "end_time": "2024-12-06T15:03:13.729091Z",
     "start_time": "2024-12-06T15:03:13.709574Z"
    }
   },
   "cell_type": "code",
   "source": [
    "print(X_train.isnull().sum())  # Check for NaN values in features\n",
    "print(y_train.isnull().sum())  # Check for NaN values in the target"
   ],
   "id": "de55d1213c4d3685",
   "outputs": [
    {
     "name": "stdout",
     "output_type": "stream",
     "text": [
      "carat      0\n",
      "depth      0\n",
      "table      0\n",
      "x          0\n",
      "y          0\n",
      "z          0\n",
      "cut        0\n",
      "color      0\n",
      "clarity    0\n",
      "dtype: int64\n",
      "0\n"
     ]
    }
   ],
   "execution_count": 119
  },
  {
   "metadata": {},
   "cell_type": "markdown",
   "source": [
    "### Save dataset\n",
    "Save the dataset into separate csv files"
   ],
   "id": "6cbc17c2664fea42"
  },
  {
   "metadata": {
    "ExecuteTime": {
     "end_time": "2024-12-06T15:03:28.805564Z",
     "start_time": "2024-12-06T15:03:28.522542Z"
    }
   },
   "cell_type": "code",
   "source": [
    "# Save splits to .csv files\n",
    "X_train.to_csv(\"../data/X_train.csv\", index=False)\n",
    "y_train.to_csv(\"../data/y_train.csv\", index=False)\n",
    "X_test.to_csv(\"../data/X_test.csv\", index=False)\n",
    "y_test.to_csv(\"../data/y_test.csv\", index=False)"
   ],
   "id": "4b17933ffa61e9ad",
   "outputs": [],
   "execution_count": 120
  }
 ],
 "metadata": {
  "kernelspec": {
   "display_name": "Python 3",
   "language": "python",
   "name": "python3"
  },
  "language_info": {
   "codemirror_mode": {
    "name": "ipython",
    "version": 2
   },
   "file_extension": ".py",
   "mimetype": "text/x-python",
   "name": "python",
   "nbconvert_exporter": "python",
   "pygments_lexer": "ipython2",
   "version": "2.7.6"
  }
 },
 "nbformat": 4,
 "nbformat_minor": 5
}
