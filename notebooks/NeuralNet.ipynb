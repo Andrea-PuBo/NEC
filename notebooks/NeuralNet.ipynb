{
 "cells": [
  {
   "metadata": {},
   "cell_type": "markdown",
   "source": "# Neural Network",
   "id": "aa583c85e6d1b1cc"
  },
  {
   "metadata": {},
   "cell_type": "markdown",
   "source": [
    "> Back Propagation Implementation - December 2024\n",
    ">\n",
    "> NEC First Assignment - Universitat Rovira i Virgili\n",
    ">\n",
    "> *Andrea Pujals Bocero*"
   ],
   "id": "7ee731ee6f752d00"
  },
  {
   "metadata": {},
   "cell_type": "markdown",
   "source": [
    "## Workflow\n",
    "1. Initialization\n",
    "2. Feed-forward propagation\n",
    "3. Error back-propagation\n",
    "4. Update of weights and thresholds\n",
    "5. Training loop\n",
    "6. Evaluation and visualization"
   ],
   "id": "55feb9f793ff2c5a"
  },
  {
   "metadata": {
    "ExecuteTime": {
     "end_time": "2024-12-07T18:49:43.483903Z",
     "start_time": "2024-12-07T18:49:42.860686Z"
    }
   },
   "cell_type": "code",
   "source": [
    "import numpy as np\n",
    "import matplotlib.pyplot as plt\n",
    "import pandas as pd"
   ],
   "id": "44e346e6e8696777",
   "outputs": [],
   "execution_count": 1
  },
  {
   "metadata": {},
   "cell_type": "markdown",
   "source": [
    "### 1. Initialization\n",
    "Define parameters in the class constructor. Random initialization of weights to break symmetry. Zero initialization of activations and deltas."
   ],
   "id": "e39ee30eafa45916"
  },
  {
   "metadata": {
    "ExecuteTime": {
     "end_time": "2024-12-07T18:49:47.974024Z",
     "start_time": "2024-12-07T18:49:47.966523Z"
    }
   },
   "cell_type": "code",
   "source": [
    "class NeuralNet:\n",
    "    def __init__(self, layers, epochs, learning_rate, momentum, fact, val_split):\n",
    "        self.L = len(layers)  # Number of layers\n",
    "        self.n = layers       # Number of units in each layer\n",
    "        self.epochs = epochs  # Number of training epochs\n",
    "        self.lr = learning_rate  # Learning rate\n",
    "        self.momentum = momentum  # Momentum term\n",
    "        self.fact = fact  # Activation function\n",
    "        self.val_split = val_split  # Validation set percentage\n",
    "\n",
    "        np.random.seed(42)\n",
    "        # Initialize activations, weights, thresholds, and other variables\n",
    "        self.h = [None] + [np.zeros(n) for n in layers[1:]]  # Fields\n",
    "        self.xi = [None] + [np.zeros(n) for n in layers[1:]]  # Activations\n",
    "        self.w = [None] + [np.random.randn(layers[i], layers[i - 1]) for i in range(1, self.L)]  # Weights\n",
    "        self.theta = [None] + [np.random.randn(layers[i]) for i in range(1, self.L)]  # Thresholds\n",
    "        self.delta = [None] + [np.zeros(n) for n in layers[1:]]  # Propagated errors\n",
    "        self.d_w = [None] + [np.zeros_like(w) for w in self.w[1:]]  # Weight updates\n",
    "        self.d_theta = [None] + [np.zeros(n) for n in layers[1:]]  # Threshold updates\n",
    "        self.d_w_prev = [None] + [np.zeros_like(w) for w in self.w[1:]]  # Previous weight updates\n",
    "        self.d_theta_prev = [None] + [np.zeros(n) for n in layers[1:]]  # Previous threshold updates\n",
    "\n",
    "        # Loss tracking\n",
    "        self.train_losses = []\n",
    "        self.val_losses = []"
   ],
   "id": "fc61d68d14f89016",
   "outputs": [],
   "execution_count": 2
  },
  {
   "metadata": {},
   "cell_type": "markdown",
   "source": [
    "Activation function method: This method applies a chosen activation function to the input h, determining the output of neurons in a layer.\n",
    "Activation functions introduce non-linearity, enabling the network to model complex relationships.\n",
    "\n",
    "Sigmoid function:\n",
    "\n",
    "$ g(h) = \\frac{1}{1 + e^{-h}} $\n",
    "\n",
    "Relu function:\n",
    "\n",
    "$ g(h) = \\max(0, h) $\n",
    "\n",
    "Tanh function:\n",
    "\n",
    "$ g(h) = \\tanh(h) $\n",
    "\n",
    "Linear function:\n",
    "\n",
    "$ g(h) = h $"
   ],
   "id": "fc4117baac8b177a"
  },
  {
   "metadata": {
    "ExecuteTime": {
     "end_time": "2024-12-07T18:49:51.246381Z",
     "start_time": "2024-12-07T18:49:51.237907Z"
    }
   },
   "cell_type": "code",
   "source": [
    "    def activation(self, h):\n",
    "        # Compute the activation function\n",
    "        if self.fact == 'sigmoid':\n",
    "            return 1 / (1 + np.exp(-h))\n",
    "        elif self.fact == 'relu':\n",
    "            return np.maximum(0, h)\n",
    "        elif self.fact == 'tanh':\n",
    "            return np.tanh(h)\n",
    "        elif self.fact == 'linear':\n",
    "            return h\n",
    "        else:\n",
    "            raise ValueError(\"Only valid functions: sigmoid, relu, tanh, linear\")"
   ],
   "id": "19486aedd73c6c5f",
   "outputs": [],
   "execution_count": 3
  },
  {
   "metadata": {},
   "cell_type": "markdown",
   "source": [
    "Then, the derivative is used during back-propagation to compute the gradient of the loss function with respect to the weights:\n",
    "\n",
    "Derivative of sigmoid function:\n",
    "\n",
    "$ g'(h) = g(h) \\cdot (1 - g(h)) $\n",
    "\n",
    "Derivative of relu function:\n",
    "\n",
    "$ g'(h) =\n",
    "\\begin{cases} \n",
    "1 & \\text{if } h > 0 \\\\\n",
    "0 & \\text{otherwise}\n",
    "\\end{cases}\n",
    "$\n",
    "\n",
    "Derivative of tanh function:\n",
    "\n",
    "$ g'(h) = 1 - \\tanh^2(h) $\n",
    "\n",
    "Derivative of linear function:\n",
    "\n",
    "$ g'(h) = 1 $"
   ],
   "id": "5b7e5fed7a637727"
  },
  {
   "metadata": {
    "ExecuteTime": {
     "end_time": "2024-12-07T18:49:52.917327Z",
     "start_time": "2024-12-07T18:49:52.909144Z"
    }
   },
   "cell_type": "code",
   "source": [
    "    def activation_derivative(self, h):\n",
    "        # Compute the derivative of the activation function\n",
    "        if self.fact == 'sigmoid':\n",
    "            act = 1 / (1 + np.exp(-h))\n",
    "            return act * (1 - act)\n",
    "        elif self.fact == 'relu':\n",
    "            return np.where(h > 0, 1, 0)\n",
    "        elif self.fact == 'tanh':\n",
    "            return 1 - np.tanh(h)**2\n",
    "        elif self.fact == 'linear':\n",
    "            return np.ones_like(h)\n",
    "        else:\n",
    "            raise ValueError(\"Only valid functions: sigmoid, relu, tanh, linear\")"
   ],
   "id": "5fb352af70922325",
   "outputs": [],
   "execution_count": 4
  },
  {
   "metadata": {},
   "cell_type": "markdown",
   "source": [
    "### 2. Feed-forward propagation\n",
    "The pre-activation field for each layer is computed as:\n",
    "\n",
    "$ \\xi^{(\\ell)}_i = g(h^{(\\ell)}_i) $\n",
    "\n",
    "The activation for each unit is computed using an activation function 𝑔:\n",
    "\n",
    "$h^{(\\ell)}_i = \\sum_j w^{(\\ell)}_{ij} \\cdot \\xi^{(\\ell-1)}_j - \\theta^{(\\ell)}_i$"
   ],
   "id": "58c41ef0b1b5eefd"
  },
  {
   "metadata": {
    "ExecuteTime": {
     "end_time": "2024-12-07T18:49:54.470680Z",
     "start_time": "2024-12-07T18:49:54.457880Z"
    }
   },
   "cell_type": "code",
   "source": [
    "    def forward(self, X):\n",
    "        # Compute forward propagation\n",
    "\n",
    "        self.xi[0] = X # Input layer activations\n",
    "        for l in range(1, self.L):\n",
    "            self.h[l] = np.dot(self.w[l], self.xi[l - 1]) - self.theta[l]\n",
    "            self.xi[l] = self.activation(self.h[l])\n",
    "        return self.xi[-1] # Return output layer activations"
   ],
   "id": "a93472175d30403a",
   "outputs": [],
   "execution_count": 5
  },
  {
   "metadata": {},
   "cell_type": "markdown",
   "source": [
    "### 3. Error back-propagation\n",
    "The error for the output layer L is:\n",
    "\n",
    "$ \\Delta^{(L)}_i = g'(h^{(L)}_i) \\cdot (o_i{(x)} - z_i) $\n",
    "\n",
    "For each hidden layer ℓ, the error is propagated backward:\n",
    "\n",
    "$ \\Delta^{(\\ell-1)}_j = g'(h^{(\\ell-1)}_j) \\cdot \\sum_i \\Delta^{(\\ell)}_i \\cdot w^{(\\ell)}_{ij} $"
   ],
   "id": "cef16c37201c58d3"
  },
  {
   "metadata": {
    "ExecuteTime": {
     "end_time": "2024-12-07T18:49:56.499386Z",
     "start_time": "2024-12-07T18:49:56.483886Z"
    }
   },
   "cell_type": "code",
   "source": [
    "    def backward(self, y_true):\n",
    "        # Compute backward propagation\n",
    "\n",
    "        # Compute delta for the output layer\n",
    "        self.delta[-1] = self.activation_derivative(self.h[-1]) * (self.xi[-1] - y_true)\n",
    "\n",
    "        # Propagate errors backward. Compute deltas for hidden layers (excluding input layer)\n",
    "        for l in range(self.L - 1, 1, -1):\n",
    "            self.delta[l - 1] = self.activation_derivative(self.h[l - 1]) * np.dot(self.w[l].T, self.delta[l])"
   ],
   "id": "a33cd024af9720c9",
   "outputs": [],
   "execution_count": 6
  },
  {
   "metadata": {},
   "cell_type": "markdown",
   "source": [
    "### 4. Update of weights and thresholds\n",
    "The weights are updated using the delta rule with momentum:\n",
    "\n",
    "$ \\delta w^{(\\ell)}_{ij} = -\\eta \\cdot \\Delta^{(\\ell)}_i \\cdot \\xi^{(\\ell-1)}_j + \\alpha \\cdot \\delta w^{(\\ell)}_{ij, \\text{prev}} $\n",
    "\n",
    "$ w^{(\\ell)}_{ij} \\to w^{(\\ell)}_{ij} + \\delta w^{(\\ell)}_{ij} $\n",
    "\n",
    "Thresholds are updated similarly:\n",
    "\n",
    "$ \\delta \\theta^{(\\ell)}_i = \\eta \\cdot \\Delta^{(\\ell)}_i + \\alpha \\cdot \\delta \\theta^{(\\ell)}_i(\\text{prev}) $\n",
    "\n",
    "$ \\theta^{(\\ell)}_i \\to \\theta^{(\\ell)}_i + \\delta \\theta^{(\\ell)}_i $"
   ],
   "id": "77957a93cd28d56b"
  },
  {
   "metadata": {
    "ExecuteTime": {
     "end_time": "2024-12-07T18:49:58.197566Z",
     "start_time": "2024-12-07T18:49:58.190630Z"
    }
   },
   "cell_type": "code",
   "source": [
    "    def update_weights_thresholds(self):\n",
    "        # Update weights and thresholds using momentum\n",
    "\n",
    "        for l in range(1, self.L):\n",
    "            self.d_w[l] = -self.lr * np.outer(self.delta[l], self.xi[l - 1])\n",
    "            self.w[l] += self.d_w[l] + self.momentum * self.d_w_prev[l]\n",
    "            self.d_w_prev[l] = self.d_w[l]\n",
    "\n",
    "            self.d_theta[l] = self.lr * self.delta[l]\n",
    "            self.theta[l] += self.d_theta[l] + self.momentum * self.d_theta_prev[l]\n",
    "            self.d_theta_prev[l] = self.d_theta[l]"
   ],
   "id": "a29d50895af1f40",
   "outputs": [],
   "execution_count": 7
  },
  {
   "metadata": {},
   "cell_type": "markdown",
   "source": [
    "### 5. Training loop\n",
    "Loop through epochs, minimize quadratic error:\n",
    "\n",
    "$ E[o] = \\frac{1}{2} \\sum_{\\mu=1}^p \\sum_{i=1}^m (o_i(x^{\\mu}) - z_i^{\\mu})^2 $"
   ],
   "id": "a21aae3834fe6228"
  },
  {
   "metadata": {
    "ExecuteTime": {
     "end_time": "2024-12-07T18:49:59.477689Z",
     "start_time": "2024-12-07T18:49:59.468230Z"
    }
   },
   "cell_type": "code",
   "source": [
    "    def fit(self, X, y):\n",
    "        # Train the neural network\n",
    "\n",
    "        # Split data into training and validation sets\n",
    "        n_train = int((1 - self.val_split) * len(X))\n",
    "        X_train, X_val = X[:n_train], X[n_train:]\n",
    "        y_train, y_val = y[:n_train], y[n_train:]\n",
    "\n",
    "        for epoch in range(self.epochs):\n",
    "            for i in range(len(X_train)):\n",
    "                self.forward(X_train[i])\n",
    "                self.backward(y_train[i])\n",
    "                self.update_weights_thresholds()\n",
    "\n",
    "            # Compute losses\n",
    "            train_loss = self.compute_error(X_train, y_train)\n",
    "            val_loss = self.compute_error(X_val, y_val)\n",
    "            self.train_losses.append(train_loss)\n",
    "            self.val_losses.append(val_loss)\n",
    "\n",
    "            print(f\"Epoch {epoch + 1}/{self.epochs}, Train Loss: {train_loss}, Val Loss: {val_loss}\")"
   ],
   "id": "2e09f7713dfff2d4",
   "outputs": [],
   "execution_count": 8
  },
  {
   "metadata": {},
   "cell_type": "markdown",
   "source": [
    "### 6. Evaluation and visualization\n",
    "Evaluating the model’s performance on unseen data (test sets). The predict method corresponds to the output layer’s activations during forward propagation:\n",
    "\n",
    "$ o(x) = \\xi^{(L)} $"
   ],
   "id": "1e9422c9e04c3567"
  },
  {
   "metadata": {
    "ExecuteTime": {
     "end_time": "2024-12-07T18:50:01.057666Z",
     "start_time": "2024-12-07T18:50:01.038557Z"
    }
   },
   "cell_type": "code",
   "source": [
    "    def predict(self, X):\n",
    "        # Generate predictions. Predict the output for a given input.\n",
    "        predictions = []\n",
    "        for x in X:\n",
    "            self.forward(x)\n",
    "            predictions.append(self.xi[-1])\n",
    "        return np.array(predictions)"
   ],
   "id": "16a15b0095a9ee03",
   "outputs": [],
   "execution_count": 9
  },
  {
   "metadata": {},
   "cell_type": "markdown",
   "source": "Error visualization. Training error should decrease.",
   "id": "37b707f1327ee93c"
  },
  {
   "metadata": {
    "ExecuteTime": {
     "end_time": "2024-12-07T18:50:02.437879Z",
     "start_time": "2024-12-07T18:50:02.420682Z"
    }
   },
   "cell_type": "code",
   "source": [
    "    def compute_error(self, X, y):\n",
    "        # Compute the quadratic error\n",
    "        total_error = 0\n",
    "        num_samples = len(X)\n",
    "        for x, y in zip(X, y):\n",
    "            # Perform feed-forward for each pattern\n",
    "            self.forward(x)\n",
    "            # Compute quadratic error for this pattern\n",
    "            total_error += np.sum((self.xi[-1] - y) ** 2)\n",
    "        # Return the mean quadratic error across all patterns\n",
    "        return total_error / num_samples"
   ],
   "id": "e353b0c293eb9ae2",
   "outputs": [],
   "execution_count": 10
  },
  {
   "metadata": {
    "ExecuteTime": {
     "end_time": "2024-12-07T18:50:03.621487Z",
     "start_time": "2024-12-07T18:50:03.611005Z"
    }
   },
   "cell_type": "code",
   "source": [
    "    def loss_epochs(self):\n",
    "        # Return the evolution of the training loss and the validation loss\n",
    "        return self.train_losses, self.val_losses"
   ],
   "id": "3f7ecdefad7dc2a8",
   "outputs": [],
   "execution_count": 11
  },
  {
   "metadata": {
    "ExecuteTime": {
     "end_time": "2024-12-07T18:50:04.834233Z",
     "start_time": "2024-12-07T18:50:04.817962Z"
    }
   },
   "cell_type": "code",
   "source": [
    "    def plot_errors(self):\n",
    "        # Plot training and validation losses\n",
    "        epochs = np.arange(1, len(self.train_losses) + 1)\n",
    "        plt.figure(figsize=(10, 6))\n",
    "        plt.plot(epochs, self.train_losses, label=\"Training Loss\", marker='o')\n",
    "        plt.plot(epochs, self.val_losses, label=\"Validation Loss\", marker='o')\n",
    "        plt.title(\"Training and test error over epochs\")\n",
    "        plt.xlabel(\"Epochs\")\n",
    "        plt.ylabel(\"Mean Squared Error (MSE)\")\n",
    "        plt.legend()\n",
    "        plt.grid()\n",
    "        plt.show()"
   ],
   "id": "282a90d4190d0cbe",
   "outputs": [],
   "execution_count": 12
  },
  {
   "metadata": {},
   "cell_type": "markdown",
   "source": "### Example of usage",
   "id": "d3f0658a62ad9a50"
  },
  {
   "cell_type": "code",
   "id": "initial_id",
   "metadata": {
    "collapsed": true,
    "ExecuteTime": {
     "end_time": "2024-12-07T18:54:29.950027Z",
     "start_time": "2024-12-07T18:53:51.092750Z"
    }
   },
   "source": [
    "if __name__ == \"__main__\":\n",
    "    # Load dataset\n",
    "    X_train_pd = pd.read_csv('../data/X_train.csv')\n",
    "    X_test_pd = pd.read_csv('../data/X_test.csv')\n",
    "    y_train_pd = pd.read_csv('../data/y_train.csv')\n",
    "    y_test_pd = pd.read_csv('../data/y_test.csv')\n",
    "    # Convert X_train and X_test to NumPy arrays\n",
    "    X_train = X_train_pd.to_numpy()\n",
    "    X_test = X_test_pd.to_numpy()\n",
    "    # Assuming y_train and y_test have a single target column\n",
    "    y_train = y_train_pd.to_numpy().ravel()  # Use .ravel() to flatten to 1D array\n",
    "    y_test = y_test_pd.to_numpy().ravel()\n",
    "\n",
    "    # Initialize Neural Network\n",
    "    layers = [9, 8, 4, 1]  # Example: Input layer, two hidden layers, and output layer\n",
    "    nn = NeuralNet(\n",
    "        layers=layers,\n",
    "        epochs=100,\n",
    "        learning_rate=0.1,\n",
    "        momentum=0.8,\n",
    "        fact=\"sigmoid\",\n",
    "        val_split=0.2\n",
    "    )\n",
    "\n",
    "    # Train the Neural Network\n",
    "    nn.fit(X_train, y_train)\n",
    "\n",
    "    # Get the training and validation errors\n",
    "    train_errors, val_errors = nn.loss_epochs()\n",
    "\n",
    "    # Plot the training and validation errors\n",
    "    nn.plot_errors()"
   ],
   "outputs": [
    {
     "name": "stdout",
     "output_type": "stream",
     "text": [
      "Epoch 1/100, Train Loss: 0.016130477353589634, Val Loss: 0.017463854270034992\n",
      "Epoch 2/100, Train Loss: 0.00414134938302465, Val Loss: 0.0046760848296548245\n",
      "Epoch 3/100, Train Loss: 0.0026940589711056, Val Loss: 0.0028570437810867618\n",
      "Epoch 4/100, Train Loss: 0.0024260457600397594, Val Loss: 0.0024841821645225164\n",
      "Epoch 5/100, Train Loss: 0.0023086920349503176, Val Loss: 0.0023336946477848105\n",
      "Epoch 6/100, Train Loss: 0.0022347061867722265, Val Loss: 0.0022438368349557863\n",
      "Epoch 7/100, Train Loss: 0.0021824019383588173, Val Loss: 0.0021811237955590397\n",
      "Epoch 8/100, Train Loss: 0.002142649710212111, Val Loss: 0.0021336510764792464\n",
      "Epoch 9/100, Train Loss: 0.0021105355551819718, Val Loss: 0.002095541935162713\n",
      "Epoch 10/100, Train Loss: 0.0020831844312392492, Val Loss: 0.0020634311085167448\n",
      "Epoch 11/100, Train Loss: 0.002058863181769558, Val Loss: 0.002035284385894096\n",
      "Epoch 12/100, Train Loss: 0.0020365167769421403, Val Loss: 0.002009844081730564\n",
      "Epoch 13/100, Train Loss: 0.0020155008971184858, Val Loss: 0.001986320881419494\n",
      "Epoch 14/100, Train Loss: 0.001995420899975074, Val Loss: 0.001964211661895369\n",
      "Epoch 15/100, Train Loss: 0.001976033553991608, Val Loss: 0.0019431893672400586\n",
      "Epoch 16/100, Train Loss: 0.0019571870483342095, Val Loss: 0.0019230358978094492\n",
      "Epoch 17/100, Train Loss: 0.0019387845571619932, Val Loss: 0.001903601099472417\n",
      "Epoch 18/100, Train Loss: 0.001920762275276214, Val Loss: 0.00188477767240226\n",
      "Epoch 19/100, Train Loss: 0.0019030762862901384, Val Loss: 0.0018664857917167575\n",
      "Epoch 20/100, Train Loss: 0.001885694773830282, Val Loss: 0.0018486636447007934\n",
      "Epoch 21/100, Train Loss: 0.001868593434684977, Val Loss: 0.0018312615713687742\n",
      "Epoch 22/100, Train Loss: 0.0018517527968574712, Val Loss: 0.0018142384073368822\n",
      "Epoch 23/100, Train Loss: 0.0018351566699526943, Val Loss: 0.0017975591870928976\n",
      "Epoch 24/100, Train Loss: 0.0018187912768674128, Val Loss: 0.0017811937051911725\n",
      "Epoch 25/100, Train Loss: 0.0018026448083747028, Val Loss: 0.0017651156356583853\n",
      "Epoch 26/100, Train Loss: 0.0017867072531574124, Val Loss: 0.0017493020278898477\n",
      "Epoch 27/100, Train Loss: 0.0017709704156751084, Val Loss: 0.0017337330632581011\n",
      "Epoch 28/100, Train Loss: 0.0017554280629903441, Val Loss: 0.0017183919914112824\n",
      "Epoch 29/100, Train Loss: 0.0017400761527376647, Val Loss: 0.001703265182324862\n",
      "Epoch 30/100, Train Loss: 0.0017249130968339658, Val Loss: 0.0016883422384069324\n",
      "Epoch 31/100, Train Loss: 0.0017099400153110613, Val Loss: 0.0016736161160102357\n",
      "Epoch 32/100, Train Loss: 0.0016951609355556042, Val Loss: 0.0016590832109719359\n",
      "Epoch 33/100, Train Loss: 0.0016805828962804617, Val Loss: 0.0016447433699926907\n",
      "Epoch 34/100, Train Loss: 0.0016662159233880652, Val Loss: 0.001630599799239481\n",
      "Epoch 35/100, Train Loss: 0.0016520728561885904, Val Loss: 0.001616658853106504\n",
      "Epoch 36/100, Train Loss: 0.0016381690161978199, Val Loss: 0.0016029296986745875\n",
      "Epoch 37/100, Train Loss: 0.0016245217255708639, Val Loss: 0.0015894238639271939\n",
      "Epoch 38/100, Train Loss: 0.001611149696586749, Val Loss: 0.0015761546890557167\n",
      "Epoch 39/100, Train Loss: 0.001598072325986841, Val Loss: 0.0015631367092150566\n",
      "Epoch 40/100, Train Loss: 0.0015853089370912595, Val Loss: 0.001550385003104281\n",
      "Epoch 41/100, Train Loss: 0.0015728780175134362, Val Loss: 0.0015379145442896052\n",
      "Epoch 42/100, Train Loss: 0.0015607965004721012, Val Loss: 0.0015257395911493152\n",
      "Epoch 43/100, Train Loss: 0.0015490791332129058, Val Loss: 0.0015138731469686983\n",
      "Epoch 44/100, Train Loss: 0.001537737967520436, Val Loss: 0.0015023265146767379\n",
      "Epoch 45/100, Train Loss: 0.0015267819958491222, Val Loss: 0.0014911089619186637\n",
      "Epoch 46/100, Train Loss: 0.0015162169436935568, Val Loss: 0.0014802275026999448\n",
      "Epoch 47/100, Train Loss: 0.0015060452160347312, Val Loss: 0.001469686792830573\n",
      "Epoch 48/100, Train Loss: 0.0014962659844777698, Val Loss: 0.001459489128799064\n",
      "Epoch 49/100, Train Loss: 0.0014868753931220533, Val Loss: 0.0014496345341731176\n",
      "Epoch 50/100, Train Loss: 0.0014778668558670138, Val Loss: 0.001440120914450009\n",
      "Epoch 51/100, Train Loss: 0.001469231415831092, Val Loss: 0.0014309442603891859\n",
      "Epoch 52/100, Train Loss: 0.0014609581384694892, Val Loss: 0.0014220988808864967\n",
      "Epoch 53/100, Train Loss: 0.001453034513141332, Val Loss: 0.001413577648849999\n",
      "Epoch 54/100, Train Loss: 0.0014454468424765995, Val Loss: 0.001405372246716741\n",
      "Epoch 55/100, Train Loss: 0.0014381806041249647, Val Loss: 0.0013974734016654023\n",
      "Epoch 56/100, Train Loss: 0.0014312207746553568, Val Loss: 0.0013898711038131076\n",
      "Epoch 57/100, Train Loss: 0.0014245521100282657, Val Loss: 0.0013825548034643736\n",
      "Epoch 58/100, Train Loss: 0.0014181593808959272, Val Loss: 0.0013755135856797823\n",
      "Epoch 59/100, Train Loss: 0.0014120275638880775, Val Loss: 0.0013687363220367208\n",
      "Epoch 60/100, Train Loss: 0.0014061419920377838, Val Loss: 0.0013622118005266087\n",
      "Epoch 61/100, Train Loss: 0.0014004884687055918, Val Loss: 0.001355928835172221\n",
      "Epoch 62/100, Train Loss: 0.001395053349922982, Val Loss: 0.0013498763572656045\n",
      "Epoch 63/100, Train Loss: 0.001389823600164352, Val Loss: 0.0013440434902228424\n",
      "Epoch 64/100, Train Loss: 0.001384786826319116, Val Loss: 0.0013384196100093516\n",
      "Epoch 65/100, Train Loss: 0.0013799312942007755, Val Loss: 0.0013329943929693353\n",
      "Epoch 66/100, Train Loss: 0.0013752459313945916, Val Loss: 0.0013277578527371965\n",
      "Epoch 67/100, Train Loss: 0.0013707203196814321, Val Loss: 0.0013227003677426566\n",
      "Epoch 68/100, Train Loss: 0.0013663446797285734, Val Loss: 0.0013178127006597223\n",
      "Epoch 69/100, Train Loss: 0.001362109850237353, Val Loss: 0.001313086010998263\n",
      "Epoch 70/100, Train Loss: 0.0013580072632963334, Val Loss: 0.0013085118618994542\n",
      "Epoch 71/100, Train Loss: 0.0013540289173119792, Val Loss: 0.0013040822220717757\n",
      "Epoch 72/100, Train Loss: 0.0013501673485749363, Val Loss: 0.0012997894636917297\n",
      "Epoch 73/100, Train Loss: 0.0013464156022633606, Val Loss: 0.0012956263569923118\n",
      "Epoch 74/100, Train Loss: 0.0013427672034793314, Val Loss: 0.0012915860621708528\n",
      "Epoch 75/100, Train Loss: 0.0013392161287516127, Val Loss: 0.0012876621191652965\n",
      "Epoch 76/100, Train Loss: 0.0013357567783113674, Val Loss: 0.0012838484357738113\n",
      "Epoch 77/100, Train Loss: 0.0013323839493499358, Val Loss: 0.0012801392745259465\n",
      "Epoch 78/100, Train Loss: 0.0013290928103941125, Val Loss: 0.0012765292386540227\n",
      "Epoch 79/100, Train Loss: 0.0013258788768784097, Val Loss: 0.001273013257460391\n",
      "Epoch 80/100, Train Loss: 0.0013227379879534563, Val Loss: 0.0012695865713294276\n",
      "Epoch 81/100, Train Loss: 0.0013196662845391463, Val Loss: 0.0012662447165917587\n",
      "Epoch 82/100, Train Loss: 0.0013166601886105064, Val Loss: 0.0012629835104123145\n",
      "Epoch 83/100, Train Loss: 0.001313716383688838, Val Loss: 0.0012597990358422296\n",
      "Epoch 84/100, Train Loss: 0.001310831796500816, Val Loss: 0.0012566876271476288\n",
      "Epoch 85/100, Train Loss: 0.001308003579761561, Val Loss: 0.0012536458555046617\n",
      "Epoch 86/100, Train Loss: 0.0013052290960337634, Val Loss: 0.0012506705151305191\n",
      "Epoch 87/100, Train Loss: 0.0013025059026127311, Val Loss: 0.001247758609902479\n",
      "Epoch 88/100, Train Loss: 0.0012998317373866114, Val Loss: 0.0012449073405031875\n",
      "Epoch 89/100, Train Loss: 0.0012972045056210036, Val Loss: 0.001242114092117656\n",
      "Epoch 90/100, Train Loss: 0.0012946222676181677, Val Loss: 0.0012393764226975275\n",
      "Epoch 91/100, Train Loss: 0.0012920832272021445, Val Loss: 0.0012366920517995\n",
      "Epoch 92/100, Train Loss: 0.0012895857209827284, Val Loss: 0.001234058849997936\n",
      "Epoch 93/100, Train Loss: 0.0012871282083529592, Val Loss: 0.001231474828865881\n",
      "Epoch 94/100, Train Loss: 0.001284709262176469, Val Loss: 0.0012289381315141363\n",
      "Epoch 95/100, Train Loss: 0.0012823275601232043, Val Loss: 0.0012264470236744084\n",
      "Epoch 96/100, Train Loss: 0.001279981876613474, Val Loss: 0.0012239998853097404\n",
      "Epoch 97/100, Train Loss: 0.0012776710753326331, Val Loss: 0.0012215952027332289\n",
      "Epoch 98/100, Train Loss: 0.0012753941022801947, Val Loss: 0.0012192315612146126\n",
      "Epoch 99/100, Train Loss: 0.0012731499793191417, Val Loss: 0.0012169076380531526\n",
      "Epoch 100/100, Train Loss: 0.0012709377981929483, Val Loss: 0.0012146221960946462\n"
     ]
    },
    {
     "data": {
      "text/plain": [
       "<Figure size 1000x600 with 1 Axes>"
      ],
      "image/png": "[encoded data removed]"
     },
     "metadata": {},
     "output_type": "display_data"
    }
   ],
   "execution_count": 17
  }
 ],
 "metadata": {
  "kernelspec": {
   "display_name": "Python 3",
   "language": "python",
   "name": "python3"
  },
  "language_info": {
   "codemirror_mode": {
    "name": "ipython",
    "version": 2
   },
   "file_extension": ".py",
   "mimetype": "text/x-python",
   "name": "python",
   "nbconvert_exporter": "python",
   "pygments_lexer": "ipython2",
   "version": "2.7.6"
  }
 },
 "nbformat": 4,
 "nbformat_minor": 5
}
